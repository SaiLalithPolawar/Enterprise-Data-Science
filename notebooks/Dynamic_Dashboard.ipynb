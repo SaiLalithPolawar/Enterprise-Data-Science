{
 "cells": [
  {
   "cell_type": "markdown",
   "id": "7a947079",
   "metadata": {},
   "source": [
    "# Visualization of Dynamic DashBoard"
   ]
  },
  {
   "cell_type": "markdown",
   "id": "3ec8c84f",
   "metadata": {},
   "source": [
    "### Implementing the visualization of Dynamic Dashboard for confirmed cases over time"
   ]
  },
  {
   "cell_type": "markdown",
   "id": "c7ea5387",
   "metadata": {},
   "source": [
    "## Import Libraries"
   ]
  },
  {
   "cell_type": "markdown",
   "id": "97f3cc8f",
   "metadata": {},
   "source": [
    "### We require few libraries to read and analyse the data. In this section, all the required libraries are imported."
   ]
  },
  {
   "cell_type": "code",
   "execution_count": 1,
   "id": "c0a00c98",
   "metadata": {},
   "outputs": [
    {
     "name": "stderr",
     "output_type": "stream",
     "text": [
      "C:\\Users\\SLP279\\AppData\\Local\\Temp\\ipykernel_20428\\109115799.py:10: UserWarning: \n",
      "The dash_core_components package is deprecated. Please replace\n",
      "`import dash_core_components as dcc` with `from dash import dcc`\n",
      "  import dash_core_components as dcc\n",
      "C:\\Users\\SLP279\\AppData\\Local\\Temp\\ipykernel_20428\\109115799.py:11: UserWarning: \n",
      "The dash_html_components package is deprecated. Please replace\n",
      "`import dash_html_components as html` with `from dash import html`\n",
      "  import dash_html_components as html\n"
     ]
    }
   ],
   "source": [
    "import numpy as np\n",
    "from sklearn import linear_model\n",
    "reg = linear_model.LinearRegression(fit_intercept=True)\n",
    "import pandas as pd\n",
    "import subprocess\n",
    "import os\n",
    "import requests\n",
    "import dash\n",
    "dash.__version__\n",
    "import dash_core_components as dcc\n",
    "import dash_html_components as html\n",
    "from dash.dependencies import Input, Output,State\n",
    "import plotly.graph_objects as go\n",
    "import os\n",
    "from scipy import signal"
   ]
  },
  {
   "cell_type": "markdown",
   "id": "b0c7aa07",
   "metadata": {},
   "source": [
    "## Data collection "
   ]
  },
  {
   "cell_type": "markdown",
   "id": "23ce6ba1",
   "metadata": {},
   "source": [
    "### The data required for DashBoard visualization is collected from JohnHopkins git repository."
   ]
  },
  {
   "cell_type": "markdown",
   "id": "8c84a386",
   "metadata": {},
   "source": [
    "We colloct the data that we want to work with. Here I am pulling the COVID-19 data from JohnHopkins gitrepository."
   ]
  },
  {
   "cell_type": "code",
   "execution_count": 2,
   "id": "d0441178",
   "metadata": {},
   "outputs": [
    {
     "name": "stdout",
     "output_type": "stream",
     "text": [
      "yeyah reached\n",
      "Error : b'From https://github.com/CSSEGISandData/COVID-19\\n   a16ef40be3..57e853577a  master     -> origin/master\\n * [new branch]            automated-patch-for-delayed-data-for-India-Pakistan-Mexico-07-27-2022 -> origin/automated-patch-for-delayed-data-for-India-Pakistan-Mexico-07-27-2022\\n   320b39c3ac..cb355255da  web-data   -> origin/web-data\\nUpdating files:   8% (104/1259)\\rUpdating files:   9% (114/1259)\\rUpdating files:  10% (126/1259)\\rUpdating files:  11% (139/1259)\\rUpdating files:  12% (152/1259)\\rUpdating files:  13% (164/1259)\\rUpdating files:  14% (177/1259)\\rUpdating files:  15% (189/1259)\\rUpdating files:  16% (202/1259)\\rUpdating files:  17% (215/1259)\\rUpdating files:  18% (227/1259)\\rUpdating files:  19% (240/1259)\\rUpdating files:  20% (252/1259)\\rUpdating files:  21% (265/1259)\\rUpdating files:  22% (277/1259)\\rUpdating files:  23% (290/1259)\\rUpdating files:  24% (303/1259)\\rUpdating files:  25% (315/1259)\\rUpdating files:  26% (328/1259)\\rUpdating files:  27% (340/1259)\\rUpdating files:  27% (352/1259)\\rUpdating files:  28% (353/1259)\\rUpdating files:  29% (366/1259)\\rUpdating files:  30% (378/1259)\\rUpdating files:  31% (391/1259)\\rUpdating files:  32% (403/1259)\\rUpdating files:  33% (416/1259)\\rUpdating files:  33% (418/1259)\\rUpdating files:  34% (429/1259)\\rUpdating files:  35% (441/1259)\\rUpdating files:  36% (454/1259)\\rUpdating files:  37% (466/1259)\\rUpdating files:  38% (479/1259)\\rUpdating files:  39% (492/1259)\\rUpdating files:  40% (504/1259)\\rUpdating files:  40% (510/1259)\\rUpdating files:  41% (517/1259)\\rUpdating files:  42% (529/1259)\\rUpdating files:  43% (542/1259)\\rUpdating files:  44% (554/1259)\\rUpdating files:  45% (567/1259)\\rUpdating files:  46% (580/1259)\\rUpdating files:  47% (592/1259)\\rUpdating files:  48% (605/1259)\\rUpdating files:  49% (617/1259)\\rUpdating files:  50% (630/1259)\\rUpdating files:  51% (643/1259)\\rUpdating files:  52% (655/1259)\\rUpdating files:  53% (668/1259)\\rUpdating files:  54% (680/1259)\\rUpdating files:  55% (693/1259)\\rUpdating files:  56% (706/1259)\\rUpdating files:  57% (718/1259)\\rUpdating files:  58% (731/1259)\\rUpdating files:  59% (743/1259)\\rUpdating files:  60% (756/1259)\\rUpdating files:  61% (768/1259)\\rUpdating files:  62% (781/1259)\\rUpdating files:  63% (794/1259)\\rUpdating files:  64% (806/1259)\\rUpdating files:  65% (819/1259)\\rUpdating files:  66% (831/1259)\\rUpdating files:  67% (844/1259)\\rUpdating files:  68% (857/1259)\\rUpdating files:  69% (869/1259)\\rUpdating files:  70% (882/1259)\\rUpdating files:  71% (894/1259)\\rUpdating files:  71% (906/1259)\\rUpdating files:  72% (907/1259)\\rUpdating files:  73% (920/1259)\\rUpdating files:  74% (932/1259)\\rUpdating files:  75% (945/1259)\\rUpdating files:  76% (957/1259)\\rUpdating files:  77% (970/1259)\\rUpdating files:  78% (983/1259)\\rUpdating files:  79% (995/1259)\\rUpdating files:  80% (1008/1259)\\rUpdating files:  81% (1020/1259)\\rUpdating files:  82% (1033/1259)\\rUpdating files:  83% (1045/1259)\\rUpdating files:  84% (1058/1259)\\rUpdating files:  85% (1071/1259)\\rUpdating files:  86% (1083/1259)\\rUpdating files:  87% (1096/1259)\\rUpdating files:  88% (1108/1259)\\rUpdating files:  89% (1121/1259)\\rUpdating files:  90% (1134/1259)\\rUpdating files:  91% (1146/1259)\\rUpdating files:  92% (1159/1259)\\rUpdating files:  93% (1171/1259)\\rUpdating files:  94% (1184/1259)\\rUpdating files:  95% (1197/1259)\\rUpdating files:  96% (1209/1259)\\rUpdating files:  97% (1222/1259)\\rUpdating files:  98% (1234/1259)\\rUpdating files:  99% (1247/1259)\\rUpdating files: 100% (1259/1259)\\rUpdating files: 100% (1259/1259), done.\\n'\n",
      "out : b'Updating a16ef40be3..57e853577a\\nFast-forward\\n csse_covid_19_data/README.md                       |    1 +\\n .../csse_covid_19_daily_reports/01-01-2022.csv     |   24 +-\\n .../csse_covid_19_daily_reports/01-02-2022.csv     |   24 +-\\n .../csse_covid_19_daily_reports/01-03-2022.csv     |   24 +-\\n .../csse_covid_19_daily_reports/01-04-2022.csv     |   24 +-\\n .../csse_covid_19_daily_reports/01-05-2021.csv     |    2 +-\\n .../csse_covid_19_daily_reports/01-05-2022.csv     |   24 +-\\n .../csse_covid_19_daily_reports/01-06-2021.csv     |    2 +-\\n .../csse_covid_19_daily_reports/01-06-2022.csv     |   24 +-\\n .../csse_covid_19_daily_reports/01-07-2021.csv     |    2 +-\\n .../csse_covid_19_daily_reports/01-07-2022.csv     |   24 +-\\n .../csse_covid_19_daily_reports/01-08-2021.csv     |    2 +-\\n .../csse_covid_19_daily_reports/01-08-2022.csv     |   24 +-\\n .../csse_covid_19_daily_reports/01-09-2021.csv     |    2 +-\\n .../csse_covid_19_daily_reports/01-09-2022.csv     |   24 +-\\n .../csse_covid_19_daily_reports/01-10-2021.csv     |    2 +-\\n .../csse_covid_19_daily_reports/01-10-2022.csv     |   24 +-\\n .../csse_covid_19_daily_reports/01-11-2021.csv     |    2 +-\\n .../csse_covid_19_daily_reports/01-11-2022.csv     |   24 +-\\n .../csse_covid_19_daily_reports/01-12-2021.csv     |    2 +-\\n .../csse_covid_19_daily_reports/01-12-2022.csv     |   22 +-\\n .../csse_covid_19_daily_reports/01-13-2021.csv     |    2 +-\\n .../csse_covid_19_daily_reports/01-13-2022.csv     |   22 +-\\n .../csse_covid_19_daily_reports/01-14-2021.csv     |    2 +-\\n .../csse_covid_19_daily_reports/01-14-2022.csv     |   22 +-\\n .../csse_covid_19_daily_reports/01-15-2021.csv     |    2 +-\\n .../csse_covid_19_daily_reports/01-15-2022.csv     |   22 +-\\n .../csse_covid_19_daily_reports/01-16-2021.csv     |    2 +-\\n .../csse_covid_19_daily_reports/01-16-2022.csv     |   22 +-\\n .../csse_covid_19_daily_reports/01-17-2021.csv     |    2 +-\\n .../csse_covid_19_daily_reports/01-17-2022.csv     |   22 +-\\n .../csse_covid_19_daily_reports/01-18-2021.csv     |    2 +-\\n .../csse_covid_19_daily_reports/01-18-2022.csv     |   26 +-\\n .../csse_covid_19_daily_reports/01-19-2021.csv     |    4 +-\\n .../csse_covid_19_daily_reports/01-19-2022.csv     |   26 +-\\n .../csse_covid_19_daily_reports/01-20-2021.csv     |    4 +-\\n .../csse_covid_19_daily_reports/01-20-2022.csv     |   26 +-\\n .../csse_covid_19_daily_reports/01-21-2021.csv     |    4 +-\\n .../csse_covid_19_daily_reports/01-21-2022.csv     |   26 +-\\n .../csse_covid_19_daily_reports/01-22-2021.csv     |    4 +-\\n .../csse_covid_19_daily_reports/01-22-2022.csv     |   26 +-\\n .../csse_covid_19_daily_reports/01-23-2021.csv     |    4 +-\\n .../csse_covid_19_daily_reports/01-23-2022.csv     |   26 +-\\n .../csse_covid_19_daily_reports/01-24-2021.csv     |    4 +-\\n .../csse_covid_19_daily_reports/01-24-2022.csv     |   26 +-\\n .../csse_covid_19_daily_reports/01-25-2021.csv     |    4 +-\\n .../csse_covid_19_daily_reports/01-25-2022.csv     |   26 +-\\n .../csse_covid_19_daily_reports/01-26-2021.csv     |    4 +-\\n .../csse_covid_19_daily_reports/01-26-2022.csv     |   26 +-\\n .../csse_covid_19_daily_reports/01-27-2021.csv     |    4 +-\\n .../csse_covid_19_daily_reports/01-27-2022.csv     |   26 +-\\n .../csse_covid_19_daily_reports/01-28-2021.csv     |    4 +-\\n .../csse_covid_19_daily_reports/01-28-2022.csv     |   26 +-\\n .../csse_covid_19_daily_reports/01-29-2021.csv     |    4 +-\\n .../csse_covid_19_daily_reports/01-29-2022.csv     |   26 +-\\n .../csse_covid_19_daily_reports/01-30-2021.csv     |    4 +-\\n .../csse_covid_19_daily_reports/01-30-2022.csv     |   26 +-\\n .../csse_covid_19_daily_reports/01-31-2021.csv     |    4 +-\\n .../csse_covid_19_daily_reports/01-31-2022.csv     |   26 +-\\n .../csse_covid_19_daily_reports/02-01-2021.csv     |    4 +-\\n .../csse_covid_19_daily_reports/02-01-2022.csv     |   26 +-\\n .../csse_covid_19_daily_reports/02-02-2021.csv     |    4 +-\\n .../csse_covid_19_daily_reports/02-02-2022.csv     |   26 +-\\n .../csse_covid_19_daily_reports/02-03-2021.csv     |    4 +-\\n .../csse_covid_19_daily_reports/02-03-2022.csv     |   26 +-\\n .../csse_covid_19_daily_reports/02-04-2021.csv     |    4 +-\\n .../csse_covid_19_daily_reports/02-04-2022.csv     |   26 +-\\n .../csse_covid_19_daily_reports/02-05-2021.csv     |    4 +-\\n .../csse_covid_19_daily_reports/02-05-2022.csv     |   26 +-\\n .../csse_covid_19_daily_reports/02-06-2021.csv     |    4 +-\\n .../csse_covid_19_daily_reports/02-06-2022.csv     |   26 +-\\n .../csse_covid_19_daily_reports/02-07-2021.csv     |    4 +-\\n .../csse_covid_19_daily_reports/02-07-2022.csv     |   26 +-\\n .../csse_covid_19_daily_reports/02-08-2021.csv     |    8 +-\\n .../csse_covid_19_daily_reports/02-08-2022.csv     |   26 +-\\n .../csse_covid_19_daily_reports/02-09-2021.csv     |    8 +-\\n .../csse_covid_19_daily_reports/02-09-2022.csv     |   26 +-\\n .../csse_covid_19_daily_reports/02-10-2021.csv     |    8 +-\\n .../csse_covid_19_daily_reports/02-10-2022.csv     |   26 +-\\n .../csse_covid_19_daily_reports/02-11-2021.csv     |    8 +-\\n .../csse_covid_19_daily_reports/02-11-2022.csv     |   28 +-\\n .../csse_covid_19_daily_reports/02-12-2021.csv     |    8 +-\\n .../csse_covid_19_daily_reports/02-12-2022.csv     |   28 +-\\n .../csse_covid_19_daily_reports/02-13-2021.csv     |    8 +-\\n .../csse_covid_19_daily_reports/02-13-2022.csv     |   28 +-\\n .../csse_covid_19_daily_reports/02-14-2021.csv     |    8 +-\\n .../csse_covid_19_daily_reports/02-14-2022.csv     |   28 +-\\n .../csse_covid_19_daily_reports/02-15-2021.csv     |    8 +-\\n .../csse_covid_19_daily_reports/02-15-2022.csv     |   28 +-\\n .../csse_covid_19_daily_reports/02-16-2021.csv     |    8 +-\\n .../csse_covid_19_daily_reports/02-16-2022.csv     |   28 +-\\n .../csse_covid_19_daily_reports/02-17-2021.csv     |    8 +-\\n .../csse_covid_19_daily_reports/02-17-2022.csv     |   28 +-\\n .../csse_covid_19_daily_reports/02-18-2021.csv     |    8 +-\\n .../csse_covid_19_daily_reports/02-18-2022.csv     |   28 +-\\n .../csse_covid_19_daily_reports/02-19-2021.csv     |    8 +-\\n .../csse_covid_19_daily_reports/02-19-2022.csv     |   28 +-\\n .../csse_covid_19_daily_reports/02-20-2021.csv     |    8 +-\\n .../csse_covid_19_daily_reports/02-20-2022.csv     |   28 +-\\n .../csse_covid_19_daily_reports/02-21-2021.csv     |    8 +-\\n .../csse_covid_19_daily_reports/02-21-2022.csv     |   28 +-\\n .../csse_covid_19_daily_reports/02-22-2021.csv     |    8 +-\\n .../csse_covid_19_daily_reports/02-22-2022.csv     |   28 +-\\n .../csse_covid_19_daily_reports/02-23-2021.csv     |    8 +-\\n .../csse_covid_19_daily_reports/02-23-2022.csv     |   28 +-\\n .../csse_covid_19_daily_reports/02-24-2021.csv     |    8 +-\\n .../csse_covid_19_daily_reports/02-24-2022.csv     |   28 +-\\n .../csse_covid_19_daily_reports/02-25-2021.csv     |    8 +-\\n .../csse_covid_19_daily_reports/02-25-2022.csv     |   28 +-\\n .../csse_covid_19_daily_reports/02-26-2021.csv     |    8 +-\\n .../csse_covid_19_daily_reports/02-26-2022.csv     |   28 +-\\n .../csse_covid_19_daily_reports/02-27-2021.csv     |    8 +-\\n .../csse_covid_19_daily_reports/02-27-2022.csv     |   28 +-\\n .../csse_covid_19_daily_reports/02-28-2021.csv     |    8 +-\\n .../csse_covid_19_daily_reports/02-28-2022.csv     |   28 +-\\n .../csse_covid_19_daily_reports/03-01-2021.csv     |    8 +-\\n .../csse_covid_19_daily_reports/03-01-2022.csv     |   30 +-\\n .../csse_covid_19_daily_reports/03-02-2021.csv     |    8 +-\\n .../csse_covid_19_daily_reports/03-02-2022.csv     |   30 +-\\n .../csse_covid_19_daily_reports/03-03-2021.csv     |    8 +-\\n .../csse_covid_19_daily_reports/03-03-2022.csv     |   30 +-\\n .../csse_covid_19_daily_reports/03-04-2021.csv     |    8 +-\\n .../csse_covid_19_daily_reports/03-04-2022.csv     |   30 +-\\n .../csse_covid_19_daily_reports/03-05-2021.csv     |    8 +-\\n .../csse_covid_19_daily_reports/03-05-2022.csv     |   30 +-\\n .../csse_covid_19_daily_reports/03-06-2021.csv     |    8 +-\\n .../csse_covid_19_daily_reports/03-06-2022.csv     |   30 +-\\n .../csse_covid_19_daily_reports/03-07-2021.csv     |    8 +-\\n .../csse_covid_19_daily_reports/03-07-2022.csv     |   30 +-\\n .../csse_covid_19_daily_reports/03-08-2021.csv     |    8 +-\\n .../csse_covid_19_daily_reports/03-08-2022.csv     |   30 +-\\n .../csse_covid_19_daily_reports/03-09-2021.csv     |    8 +-\\n .../csse_covid_19_daily_reports/03-09-2022.csv     |   30 +-\\n .../csse_covid_19_daily_reports/03-10-2021.csv     |    8 +-\\n .../csse_covid_19_daily_reports/03-10-2022.csv     |   30 +-\\n .../csse_covid_19_daily_reports/03-11-2021.csv     |    8 +-\\n .../csse_covid_19_daily_reports/03-11-2022.csv     |   30 +-\\n .../csse_covid_19_daily_reports/03-12-2021.csv     |    8 +-\\n .../csse_covid_19_daily_reports/03-12-2022.csv     |   30 +-\\n .../csse_covid_19_daily_reports/03-13-2021.csv     |    8 +-\\n .../csse_covid_19_daily_reports/03-13-2022.csv     |   30 +-\\n .../csse_covid_19_daily_reports/03-14-2021.csv     |    8 +-\\n .../csse_covid_19_daily_reports/03-14-2022.csv     |   30 +-\\n .../csse_covid_19_daily_reports/03-15-2021.csv     |    8 +-\\n .../csse_covid_19_daily_reports/03-15-2022.csv     |   30 +-\\n .../csse_covid_19_daily_reports/03-16-2021.csv     |    8 +-\\n .../csse_covid_19_daily_reports/03-16-2022.csv     |   30 +-\\n .../csse_covid_19_daily_reports/03-17-2021.csv     |    8 +-\\n .../csse_covid_19_daily_reports/03-17-2022.csv     |   30 +-\\n .../csse_covid_19_daily_reports/03-18-2021.csv     |    8 +-\\n .../csse_covid_19_daily_reports/03-18-2022.csv     |   30 +-\\n .../csse_covid_19_daily_reports/03-19-2021.csv     |    8 +-\\n .../csse_covid_19_daily_reports/03-19-2022.csv     |   30 +-\\n .../csse_covid_19_daily_reports/03-20-2021.csv     |    8 +-\\n .../csse_covid_19_daily_reports/03-20-2022.csv     |   30 +-\\n .../csse_covid_19_daily_reports/03-21-2021.csv     |    8 +-\\n .../csse_covid_19_daily_reports/03-21-2022.csv     |   30 +-\\n .../csse_covid_19_daily_reports/03-22-2021.csv     |    8 +-\\n .../csse_covid_19_daily_reports/03-22-2022.csv     |   30 +-\\n .../csse_covid_19_daily_reports/03-23-2021.csv     |    8 +-\\n .../csse_covid_19_daily_reports/03-23-2022.csv     |   30 +-\\n .../csse_covid_19_daily_reports/03-24-2021.csv     |    8 +-\\n .../csse_covid_19_daily_reports/03-24-2022.csv     |   30 +-\\n .../csse_covid_19_daily_reports/03-25-2021.csv     |    8 +-\\n .../csse_covid_19_daily_reports/03-25-2022.csv     |   30 +-\\n .../csse_covid_19_daily_reports/03-26-2021.csv     |    8 +-\\n .../csse_covid_19_daily_reports/03-26-2022.csv     |   30 +-\\n .../csse_covid_19_daily_reports/03-27-2021.csv     |    8 +-\\n .../csse_covid_19_daily_reports/03-27-2022.csv     |   30 +-\\n .../csse_covid_19_daily_reports/03-28-2021.csv     |    8 +-\\n .../csse_covid_19_daily_reports/03-28-2022.csv     |   30 +-\\n .../csse_covid_19_daily_reports/03-29-2021.csv     |    8 +-\\n .../csse_covid_19_daily_reports/03-29-2022.csv     |   30 +-\\n .../csse_covid_19_daily_reports/03-30-2021.csv     |    8 +-\\n .../csse_covid_19_daily_reports/03-30-2022.csv     |   30 +-\\n .../csse_covid_19_daily_reports/03-31-2021.csv     |    8 +-\\n .../csse_covid_19_daily_reports/03-31-2022.csv     |   30 +-\\n .../csse_covid_19_daily_reports/04-01-2021.csv     |    8 +-\\n .../csse_covid_19_daily_reports/04-01-2022.csv     |   30 +-\\n .../csse_covid_19_daily_reports/04-02-2021.csv     |    8 +-\\n .../csse_covid_19_daily_reports/04-02-2022.csv     |   30 +-\\n .../csse_covid_19_daily_reports/04-03-2021.csv     |    8 +-\\n .../csse_covid_19_daily_reports/04-03-2022.csv     |   30 +-\\n .../csse_covid_19_daily_reports/04-04-2021.csv     |    8 +-\\n .../csse_covid_19_daily_reports/04-04-2022.csv     |   30 +-\\n .../csse_covid_19_daily_reports/04-05-2021.csv     |    8 +-\\n .../csse_covid_19_daily_reports/04-05-2022.csv     |   30 +-\\n .../csse_covid_19_daily_reports/04-06-2021.csv     |    8 +-\\n .../csse_covid_19_daily_reports/04-06-2022.csv     |   30 +-\\n .../csse_covid_19_daily_reports/04-07-2021.csv     |    8 +-\\n .../csse_covid_19_daily_reports/04-07-2022.csv     |   30 +-\\n .../csse_covid_19_daily_reports/04-08-2021.csv     |    8 +-\\n .../csse_covid_19_daily_reports/04-08-2022.csv     |   30 +-\\n .../csse_covid_19_daily_reports/04-09-2021.csv     |    8 +-\\n .../csse_covid_19_daily_reports/04-09-2022.csv     |   30 +-\\n .../csse_covid_19_daily_reports/04-10-2021.csv     |    8 +-\\n .../csse_covid_19_daily_reports/04-10-2022.csv     |   30 +-\\n .../csse_covid_19_daily_reports/04-11-2021.csv     |    8 +-\\n .../csse_covid_19_daily_reports/04-11-2022.csv     |   30 +-\\n .../csse_covid_19_daily_reports/04-12-2021.csv     |    8 +-\\n .../csse_covid_19_daily_reports/04-12-2022.csv     |   30 +-\\n .../csse_covid_19_daily_reports/04-13-2021.csv     |    8 +-\\n .../csse_covid_19_daily_reports/04-13-2022.csv     |   30 +-\\n .../csse_covid_19_daily_reports/04-14-2021.csv     |    8 +-\\n .../csse_covid_19_daily_reports/04-14-2022.csv     |   30 +-\\n .../csse_covid_19_daily_reports/04-15-2021.csv     |    8 +-\\n .../csse_covid_19_daily_reports/04-15-2022.csv     |   30 +-\\n .../csse_covid_19_daily_reports/04-16-2021.csv     |    8 +-\\n .../csse_covid_19_daily_reports/04-16-2022.csv     |   30 +-\\n .../csse_covid_19_daily_reports/04-17-2021.csv     |    8 +-\\n .../csse_covid_19_daily_reports/04-17-2022.csv     |   30 +-\\n .../csse_covid_19_daily_reports/04-18-2021.csv     |    8 +-\\n .../csse_covid_19_daily_reports/04-18-2022.csv     |   30 +-\\n .../csse_covid_19_daily_reports/04-19-2021.csv     |    8 +-\\n .../csse_covid_19_daily_reports/04-19-2022.csv     |   30 +-\\n .../csse_covid_19_daily_reports/04-20-2021.csv     |    8 +-\\n .../csse_covid_19_daily_reports/04-20-2022.csv     |   30 +-\\n .../csse_covid_19_daily_reports/04-21-2021.csv     |    8 +-\\n .../csse_covid_19_daily_reports/04-21-2022.csv     |   30 +-\\n .../csse_covid_19_daily_reports/04-22-2021.csv     |    8 +-\\n .../csse_covid_19_daily_reports/04-22-2022.csv     |   30 +-\\n .../csse_covid_19_daily_reports/04-23-2021.csv     |    8 +-\\n .../csse_covid_19_daily_reports/04-23-2022.csv     |   30 +-\\n .../csse_covid_19_daily_reports/04-24-2021.csv     |    8 +-\\n .../csse_covid_19_daily_reports/04-24-2022.csv     |   30 +-\\n .../csse_covid_19_daily_reports/04-25-2021.csv     |    8 +-\\n .../csse_covid_19_daily_reports/04-25-2022.csv     |   30 +-\\n .../csse_covid_19_daily_reports/04-26-2021.csv     |    8 +-\\n .../csse_covid_19_daily_reports/04-26-2022.csv     |   30 +-\\n .../csse_covid_19_daily_reports/04-27-2021.csv     |    8 +-\\n .../csse_covid_19_daily_reports/04-27-2022.csv     |   30 +-\\n .../csse_covid_19_daily_reports/04-28-2021.csv     |    8 +-\\n .../csse_covid_19_daily_reports/04-28-2022.csv     |   30 +-\\n .../csse_covid_19_daily_reports/04-29-2021.csv     |    8 +-\\n .../csse_covid_19_daily_reports/04-29-2022.csv     |   30 +-\\n .../csse_covid_19_daily_reports/04-30-2021.csv     |    8 +-\\n .../csse_covid_19_daily_reports/04-30-2022.csv     |   30 +-\\n .../csse_covid_19_daily_reports/05-01-2021.csv     |    8 +-\\n .../csse_covid_19_daily_reports/05-01-2022.csv     |   30 +-\\n .../csse_covid_19_daily_reports/05-02-2021.csv     |    8 +-\\n .../csse_covid_19_daily_reports/05-02-2022.csv     |   30 +-\\n .../csse_covid_19_daily_reports/05-03-2021.csv     |    8 +-\\n .../csse_covid_19_daily_reports/05-03-2022.csv     |   30 +-\\n .../csse_covid_19_daily_reports/05-04-2021.csv     |    8 +-\\n .../csse_covid_19_daily_reports/05-04-2022.csv     |   30 +-\\n .../csse_covid_19_daily_reports/05-05-2021.csv     |    8 +-\\n .../csse_covid_19_daily_reports/05-05-2022.csv     |   30 +-\\n .../csse_covid_19_daily_reports/05-06-2021.csv     |    8 +-\\n .../csse_covid_19_daily_reports/05-06-2022.csv     |   30 +-\\n .../csse_covid_19_daily_reports/05-07-2021.csv     |    8 +-\\n .../csse_covid_19_daily_reports/05-07-2022.csv     |   30 +-\\n .../csse_covid_19_daily_reports/05-08-2021.csv     |    8 +-\\n .../csse_covid_19_daily_reports/05-08-2022.csv     |   30 +-\\n .../csse_covid_19_daily_reports/05-09-2021.csv     |    8 +-\\n .../csse_covid_19_daily_reports/05-09-2022.csv     |   30 +-\\n .../csse_covid_19_daily_reports/05-10-2021.csv     |    8 +-\\n .../csse_covid_19_daily_reports/05-10-2022.csv     |   30 +-\\n .../csse_covid_19_daily_reports/05-11-2021.csv     |    8 +-\\n .../csse_covid_19_daily_reports/05-11-2022.csv     |   30 +-\\n .../csse_covid_19_daily_reports/05-12-2021.csv     |    8 +-\\n .../csse_covid_19_daily_reports/05-12-2022.csv     |   30 +-\\n .../csse_covid_19_daily_reports/05-13-2021.csv     |    8 +-\\n .../csse_covid_19_daily_reports/05-13-2022.csv     |   30 +-\\n .../csse_covid_19_daily_reports/05-14-2021.csv     |    8 +-\\n .../csse_covid_19_daily_reports/05-14-2022.csv     |   30 +-\\n .../csse_covid_19_daily_reports/05-15-2021.csv     |    8 +-\\n .../csse_covid_19_daily_reports/05-15-2022.csv     |   30 +-\\n .../csse_covid_19_daily_reports/05-16-2021.csv     |    8 +-\\n .../csse_covid_19_daily_reports/05-16-2022.csv     |   30 +-\\n .../csse_covid_19_daily_reports/05-17-2021.csv     |    8 +-\\n .../csse_covid_19_daily_reports/05-17-2022.csv     |   32 +-\\n .../csse_covid_19_daily_reports/05-18-2021.csv     |    8 +-\\n .../csse_covid_19_daily_reports/05-18-2022.csv     |   32 +-\\n .../csse_covid_19_daily_reports/05-19-2021.csv     |    8 +-\\n .../csse_covid_19_daily_reports/05-19-2022.csv     |   32 +-\\n .../csse_covid_19_daily_reports/05-20-2021.csv     |    8 +-\\n .../csse_covid_19_daily_reports/05-20-2022.csv     |   32 +-\\n .../csse_covid_19_daily_reports/05-21-2021.csv     |    8 +-\\n .../csse_covid_19_daily_reports/05-21-2022.csv     |   32 +-\\n .../csse_covid_19_daily_reports/05-22-2021.csv     |    8 +-\\n .../csse_covid_19_daily_reports/05-22-2022.csv     |   32 +-\\n .../csse_covid_19_daily_reports/05-23-2021.csv     |    8 +-\\n .../csse_covid_19_daily_reports/05-23-2022.csv     |   32 +-\\n .../csse_covid_19_daily_reports/05-24-2021.csv     |    8 +-\\n .../csse_covid_19_daily_reports/05-24-2022.csv     |   32 +-\\n .../csse_covid_19_daily_reports/05-25-2021.csv     |    8 +-\\n .../csse_covid_19_daily_reports/05-25-2022.csv     |   32 +-\\n .../csse_covid_19_daily_reports/05-26-2021.csv     |    8 +-\\n .../csse_covid_19_daily_reports/05-26-2022.csv     |   32 +-\\n .../csse_covid_19_daily_reports/05-27-2021.csv     |    8 +-\\n .../csse_covid_19_daily_reports/05-27-2022.csv     |   32 +-\\n .../csse_covid_19_daily_reports/05-28-2021.csv     |    8 +-\\n .../csse_covid_19_daily_reports/05-28-2022.csv     |   32 +-\\n .../csse_covid_19_daily_reports/05-29-2021.csv     |    8 +-\\n .../csse_covid_19_daily_reports/05-29-2022.csv     |   32 +-\\n .../csse_covid_19_daily_reports/05-30-2021.csv     |    8 +-\\n .../csse_covid_19_daily_reports/05-30-2022.csv     |   32 +-\\n .../csse_covid_19_daily_reports/05-31-2021.csv     |    8 +-\\n .../csse_covid_19_daily_reports/05-31-2022.csv     |   32 +-\\n .../csse_covid_19_daily_reports/06-01-2021.csv     |    8 +-\\n .../csse_covid_19_daily_reports/06-01-2022.csv     |   32 +-\\n .../csse_covid_19_daily_reports/06-02-2021.csv     |    8 +-\\n .../csse_covid_19_daily_reports/06-02-2022.csv     |   32 +-\\n .../csse_covid_19_daily_reports/06-03-2021.csv     |    8 +-\\n .../csse_covid_19_daily_reports/06-03-2022.csv     |   32 +-\\n .../csse_covid_19_daily_reports/06-04-2021.csv     |    8 +-\\n .../csse_covid_19_daily_reports/06-04-2022.csv     |   32 +-\\n .../csse_covid_19_daily_reports/06-05-2021.csv     |    8 +-\\n .../csse_covid_19_daily_reports/06-05-2022.csv     |   32 +-\\n .../csse_covid_19_daily_reports/06-06-2021.csv     |    8 +-\\n .../csse_covid_19_daily_reports/06-06-2022.csv     |   32 +-\\n .../csse_covid_19_daily_reports/06-07-2021.csv     |    8 +-\\n .../csse_covid_19_daily_reports/06-07-2022.csv     |   32 +-\\n .../csse_covid_19_daily_reports/06-08-2021.csv     |    8 +-\\n .../csse_covid_19_daily_reports/06-08-2022.csv     |   32 +-\\n .../csse_covid_19_daily_reports/06-09-2021.csv     |    8 +-\\n .../csse_covid_19_daily_reports/06-09-2022.csv     |   32 +-\\n .../csse_covid_19_daily_reports/06-10-2021.csv     |    8 +-\\n .../csse_covid_19_daily_reports/06-10-2022.csv     |   30 +-\\n .../csse_covid_19_daily_reports/06-11-2021.csv     |    8 +-\\n .../csse_covid_19_daily_reports/06-11-2022.csv     |   30 +-\\n .../csse_covid_19_daily_reports/06-12-2021.csv     |    8 +-\\n .../csse_covid_19_daily_reports/06-12-2022.csv     |   32 +-\\n .../csse_covid_19_daily_reports/06-13-2021.csv     |    8 +-\\n .../csse_covid_19_daily_reports/06-13-2022.csv     |   32 +-\\n .../csse_covid_19_daily_reports/06-14-2021.csv     |    8 +-\\n .../csse_covid_19_daily_reports/06-14-2022.csv     |   32 +-\\n .../csse_covid_19_daily_reports/06-15-2021.csv     |    8 +-\\n .../csse_covid_19_daily_reports/06-15-2022.csv     |   32 +-\\n .../csse_covid_19_daily_reports/06-16-2021.csv     |    8 +-\\n .../csse_covid_19_daily_reports/06-16-2022.csv     |   32 +-\\n .../csse_covid_19_daily_reports/06-17-2021.csv     |    8 +-\\n .../csse_covid_19_daily_reports/06-17-2022.csv     |   32 +-\\n .../csse_covid_19_daily_reports/06-18-2021.csv     |    8 +-\\n .../csse_covid_19_daily_reports/06-18-2022.csv     |   32 +-\\n .../csse_covid_19_daily_reports/06-19-2021.csv     |    8 +-\\n .../csse_covid_19_daily_reports/06-19-2022.csv     |   32 +-\\n .../csse_covid_19_daily_reports/06-20-2021.csv     |    8 +-\\n .../csse_covid_19_daily_reports/06-20-2022.csv     |   32 +-\\n .../csse_covid_19_daily_reports/06-21-2021.csv     |    8 +-\\n .../csse_covid_19_daily_reports/06-21-2022.csv     |   34 +-\\n .../csse_covid_19_daily_reports/06-22-2021.csv     |    8 +-\\n .../csse_covid_19_daily_reports/06-22-2022.csv     |   34 +-\\n .../csse_covid_19_daily_reports/06-23-2021.csv     |    8 +-\\n .../csse_covid_19_daily_reports/06-23-2022.csv     |   34 +-\\n .../csse_covid_19_daily_reports/06-24-2021.csv     |    8 +-\\n .../csse_covid_19_daily_reports/06-24-2022.csv     |   34 +-\\n .../csse_covid_19_daily_reports/06-25-2021.csv     |    8 +-\\n .../csse_covid_19_daily_reports/06-25-2022.csv     |   34 +-\\n .../csse_covid_19_daily_reports/06-26-2021.csv     |    8 +-\\n .../csse_covid_19_daily_reports/06-26-2022.csv     |   34 +-\\n .../csse_covid_19_daily_reports/06-27-2021.csv     |    8 +-\\n .../csse_covid_19_daily_reports/06-27-2022.csv     |   34 +-\\n .../csse_covid_19_daily_reports/06-28-2021.csv     |    8 +-\\n .../csse_covid_19_daily_reports/06-28-2022.csv     |   34 +-\\n .../csse_covid_19_daily_reports/06-29-2021.csv     |    8 +-\\n .../csse_covid_19_daily_reports/06-29-2022.csv     |   34 +-\\n .../csse_covid_19_daily_reports/06-30-2021.csv     |    8 +-\\n .../csse_covid_19_daily_reports/06-30-2022.csv     |   34 +-\\n .../csse_covid_19_daily_reports/07-01-2021.csv     |    8 +-\\n .../csse_covid_19_daily_reports/07-01-2022.csv     |   34 +-\\n .../csse_covid_19_daily_reports/07-02-2021.csv     |    8 +-\\n .../csse_covid_19_daily_reports/07-02-2022.csv     |   34 +-\\n .../csse_covid_19_daily_reports/07-03-2021.csv     |    8 +-\\n .../csse_covid_19_daily_reports/07-03-2022.csv     |   36 +-\\n .../csse_covid_19_daily_reports/07-04-2021.csv     |    8 +-\\n .../csse_covid_19_daily_reports/07-04-2022.csv     |   36 +-\\n .../csse_covid_19_daily_reports/07-05-2021.csv     |    8 +-\\n .../csse_covid_19_daily_reports/07-05-2022.csv     |   38 +-\\n .../csse_covid_19_daily_reports/07-06-2021.csv     |    8 +-\\n .../csse_covid_19_daily_reports/07-06-2022.csv     |   40 +-\\n .../csse_covid_19_daily_reports/07-07-2021.csv     |    8 +-\\n .../csse_covid_19_daily_reports/07-07-2022.csv     |   38 +-\\n .../csse_covid_19_daily_reports/07-08-2021.csv     |    8 +-\\n .../csse_covid_19_daily_reports/07-08-2022.csv     |   44 +-\\n .../csse_covid_19_daily_reports/07-09-2021.csv     |    8 +-\\n .../csse_covid_19_daily_reports/07-09-2022.csv     |   46 +-\\n .../csse_covid_19_daily_reports/07-10-2021.csv     |    8 +-\\n .../csse_covid_19_daily_reports/07-10-2022.csv     |   46 +-\\n .../csse_covid_19_daily_reports/07-11-2021.csv     |    8 +-\\n .../csse_covid_19_daily_reports/07-11-2022.csv     |   48 +-\\n .../csse_covid_19_daily_reports/07-12-2021.csv     |    8 +-\\n .../csse_covid_19_daily_reports/07-12-2022.csv     |   52 +-\\n .../csse_covid_19_daily_reports/07-13-2021.csv     |    8 +-\\n .../csse_covid_19_daily_reports/07-13-2022.csv     |   60 +-\\n .../csse_covid_19_daily_reports/07-14-2021.csv     |    8 +-\\n .../csse_covid_19_daily_reports/07-14-2022.csv     |   56 +-\\n .../csse_covid_19_daily_reports/07-15-2021.csv     |    8 +-\\n .../csse_covid_19_daily_reports/07-15-2022.csv     |   62 +-\\n .../csse_covid_19_daily_reports/07-16-2021.csv     |    8 +-\\n .../csse_covid_19_daily_reports/07-16-2022.csv     |   76 +-\\n .../csse_covid_19_daily_reports/07-17-2021.csv     |    8 +-\\n .../csse_covid_19_daily_reports/07-17-2022.csv     |  194 +-\\n .../csse_covid_19_daily_reports/07-18-2021.csv     |    8 +-\\n .../csse_covid_19_daily_reports/07-18-2022.csv     |  194 +-\\n .../csse_covid_19_daily_reports/07-19-2021.csv     |    8 +-\\n .../csse_covid_19_daily_reports/07-19-2022.csv     |  194 +-\\n .../csse_covid_19_daily_reports/07-20-2021.csv     |    8 +-\\n .../csse_covid_19_daily_reports/07-20-2022.csv     |  194 +-\\n .../csse_covid_19_daily_reports/07-21-2021.csv     |    8 +-\\n .../csse_covid_19_daily_reports/07-21-2022.csv     |  194 +-\\n .../csse_covid_19_daily_reports/07-22-2021.csv     |    8 +-\\n .../csse_covid_19_daily_reports/07-22-2022.csv     |  194 +-\\n .../csse_covid_19_daily_reports/07-23-2021.csv     |    8 +-\\n .../csse_covid_19_daily_reports/07-23-2022.csv     |  194 +-\\n .../csse_covid_19_daily_reports/07-24-2021.csv     |    8 +-\\n .../csse_covid_19_daily_reports/07-25-2021.csv     |    8 +-\\n .../csse_covid_19_daily_reports/07-26-2021.csv     |    8 +-\\n .../csse_covid_19_daily_reports/07-27-2021.csv     |    8 +-\\n .../csse_covid_19_daily_reports/07-27-2022.csv     | 4013 ++++++++++++\\n .../csse_covid_19_daily_reports/07-28-2021.csv     |    8 +-\\n .../csse_covid_19_daily_reports/07-29-2021.csv     |    8 +-\\n .../csse_covid_19_daily_reports/07-30-2021.csv     |    8 +-\\n .../csse_covid_19_daily_reports/07-31-2021.csv     |    8 +-\\n .../csse_covid_19_daily_reports/08-01-2021.csv     |    8 +-\\n .../csse_covid_19_daily_reports/08-02-2021.csv     |    8 +-\\n .../csse_covid_19_daily_reports/08-03-2021.csv     |    8 +-\\n .../csse_covid_19_daily_reports/08-04-2021.csv     |    8 +-\\n .../csse_covid_19_daily_reports/08-05-2021.csv     |    8 +-\\n .../csse_covid_19_daily_reports/08-06-2021.csv     |    8 +-\\n .../csse_covid_19_daily_reports/08-07-2021.csv     |    8 +-\\n .../csse_covid_19_daily_reports/08-08-2021.csv     |    8 +-\\n .../csse_covid_19_daily_reports/08-09-2021.csv     |    8 +-\\n .../csse_covid_19_daily_reports/08-10-2021.csv     |    8 +-\\n .../csse_covid_19_daily_reports/08-11-2021.csv     |    8 +-\\n .../csse_covid_19_daily_reports/08-12-2021.csv     |    8 +-\\n .../csse_covid_19_daily_reports/08-13-2021.csv     |    8 +-\\n .../csse_covid_19_daily_reports/08-14-2021.csv     |    8 +-\\n .../csse_covid_19_daily_reports/08-15-2021.csv     |    8 +-\\n .../csse_covid_19_daily_reports/08-16-2021.csv     |    8 +-\\n .../csse_covid_19_daily_reports/08-17-2021.csv     |    8 +-\\n .../csse_covid_19_daily_reports/08-18-2021.csv     |    8 +-\\n .../csse_covid_19_daily_reports/08-19-2021.csv     |   12 +-\\n .../csse_covid_19_daily_reports/08-20-2021.csv     |   12 +-\\n .../csse_covid_19_daily_reports/08-21-2021.csv     |   12 +-\\n .../csse_covid_19_daily_reports/08-22-2021.csv     |   12 +-\\n .../csse_covid_19_daily_reports/08-23-2021.csv     |   12 +-\\n .../csse_covid_19_daily_reports/08-24-2021.csv     |   12 +-\\n .../csse_covid_19_daily_reports/08-25-2021.csv     |   12 +-\\n .../csse_covid_19_daily_reports/08-26-2021.csv     |   12 +-\\n .../csse_covid_19_daily_reports/08-27-2021.csv     |   12 +-\\n .../csse_covid_19_daily_reports/08-28-2021.csv     |   14 +-\\n .../csse_covid_19_daily_reports/08-29-2021.csv     |   14 +-\\n .../csse_covid_19_daily_reports/08-30-2021.csv     |   14 +-\\n .../csse_covid_19_daily_reports/08-31-2021.csv     |   14 +-\\n .../csse_covid_19_daily_reports/09-01-2021.csv     |   14 +-\\n .../csse_covid_19_daily_reports/09-02-2021.csv     |   14 +-\\n .../csse_covid_19_daily_reports/09-03-2021.csv     |   16 +-\\n .../csse_covid_19_daily_reports/09-04-2021.csv     |   16 +-\\n .../csse_covid_19_daily_reports/09-05-2021.csv     |   16 +-\\n .../csse_covid_19_daily_reports/09-06-2021.csv     |   16 +-\\n .../csse_covid_19_daily_reports/09-07-2021.csv     |   16 +-\\n .../csse_covid_19_daily_reports/09-08-2021.csv     |   14 +-\\n .../csse_covid_19_daily_reports/09-09-2021.csv     |   14 +-\\n .../csse_covid_19_daily_reports/09-10-2021.csv     |   16 +-\\n .../csse_covid_19_daily_reports/09-11-2021.csv     |   16 +-\\n .../csse_covid_19_daily_reports/09-12-2021.csv     |   16 +-\\n .../csse_covid_19_daily_reports/09-13-2021.csv     |   16 +-\\n .../csse_covid_19_daily_reports/09-14-2021.csv     |   16 +-\\n .../csse_covid_19_daily_reports/09-15-2021.csv     |   16 +-\\n .../csse_covid_19_daily_reports/09-16-2021.csv     |   18 +-\\n .../csse_covid_19_daily_reports/09-17-2021.csv     |   18 +-\\n .../csse_covid_19_daily_reports/09-18-2021.csv     |   18 +-\\n .../csse_covid_19_daily_reports/09-19-2021.csv     |   18 +-\\n .../csse_covid_19_daily_reports/09-20-2021.csv     |   20 +-\\n .../csse_covid_19_daily_reports/09-21-2021.csv     |   20 +-\\n .../csse_covid_19_daily_reports/09-22-2021.csv     |   20 +-\\n .../csse_covid_19_daily_reports/09-23-2021.csv     |   20 +-\\n .../csse_covid_19_daily_reports/09-24-2021.csv     |   20 +-\\n .../csse_covid_19_daily_reports/09-25-2021.csv     |   20 +-\\n .../csse_covid_19_daily_reports/09-26-2021.csv     |   20 +-\\n .../csse_covid_19_daily_reports/09-27-2021.csv     |   20 +-\\n .../csse_covid_19_daily_reports/09-28-2021.csv     |   20 +-\\n .../csse_covid_19_daily_reports/09-29-2021.csv     |   22 +-\\n .../csse_covid_19_daily_reports/09-30-2021.csv     |   22 +-\\n .../csse_covid_19_daily_reports/10-01-2021.csv     |   22 +-\\n .../csse_covid_19_daily_reports/10-02-2021.csv     |   22 +-\\n .../csse_covid_19_daily_reports/10-03-2021.csv     |   22 +-\\n .../csse_covid_19_daily_reports/10-04-2021.csv     |   22 +-\\n .../csse_covid_19_daily_reports/10-05-2021.csv     |   22 +-\\n .../csse_covid_19_daily_reports/10-06-2021.csv     |   22 +-\\n .../csse_covid_19_daily_reports/10-07-2021.csv     |   20 +-\\n .../csse_covid_19_daily_reports/10-08-2021.csv     |   20 +-\\n .../csse_covid_19_daily_reports/10-09-2021.csv     |   20 +-\\n .../csse_covid_19_daily_reports/10-10-2021.csv     |   20 +-\\n .../csse_covid_19_daily_reports/10-11-2021.csv     |   20 +-\\n .../csse_covid_19_daily_reports/10-12-2021.csv     |   20 +-\\n .../csse_covid_19_daily_reports/10-13-2021.csv     |   20 +-\\n .../csse_covid_19_daily_reports/10-14-2021.csv     |   24 +-\\n .../csse_covid_19_daily_reports/10-15-2021.csv     |   24 +-\\n .../csse_covid_19_daily_reports/10-16-2021.csv     |   24 +-\\n .../csse_covid_19_daily_reports/10-17-2021.csv     |   24 +-\\n .../csse_covid_19_daily_reports/10-18-2021.csv     |   24 +-\\n .../csse_covid_19_daily_reports/10-19-2021.csv     |   24 +-\\n .../csse_covid_19_daily_reports/10-20-2021.csv     |   24 +-\\n .../csse_covid_19_daily_reports/10-21-2021.csv     |   24 +-\\n .../csse_covid_19_daily_reports/10-22-2021.csv     |   24 +-\\n .../csse_covid_19_daily_reports/10-23-2021.csv     |   24 +-\\n .../csse_covid_19_daily_reports/10-24-2021.csv     |   24 +-\\n .../csse_covid_19_daily_reports/10-25-2021.csv     |   24 +-\\n .../csse_covid_19_daily_reports/10-26-2021.csv     |   24 +-\\n .../csse_covid_19_daily_reports/10-27-2021.csv     |   24 +-\\n .../csse_covid_19_daily_reports/10-28-2021.csv     |   24 +-\\n .../csse_covid_19_daily_reports/10-29-2021.csv     |   24 +-\\n .../csse_covid_19_daily_reports/10-30-2021.csv     |   24 +-\\n .../csse_covid_19_daily_reports/10-31-2021.csv     |   24 +-\\n .../csse_covid_19_daily_reports/11-01-2021.csv     |   24 +-\\n .../csse_covid_19_daily_reports/11-02-2021.csv     |   24 +-\\n .../csse_covid_19_daily_reports/11-03-2021.csv     |   24 +-\\n .../csse_covid_19_daily_reports/11-04-2021.csv     |   24 +-\\n .../csse_covid_19_daily_reports/11-05-2021.csv     |   24 +-\\n .../csse_covid_19_daily_reports/11-06-2021.csv     |   24 +-\\n .../csse_covid_19_daily_reports/11-07-2021.csv     |   24 +-\\n .../csse_covid_19_daily_reports/11-08-2021.csv     |   24 +-\\n .../csse_covid_19_daily_reports/11-09-2021.csv     |   24 +-\\n .../csse_covid_19_daily_reports/11-10-2021.csv     |   24 +-\\n .../csse_covid_19_daily_reports/11-11-2021.csv     |   24 +-\\n .../csse_covid_19_daily_reports/11-12-2021.csv     |   24 +-\\n .../csse_covid_19_daily_reports/11-13-2021.csv     |   24 +-\\n .../csse_covid_19_daily_reports/11-14-2021.csv     |   24 +-\\n .../csse_covid_19_daily_reports/11-15-2021.csv     |   24 +-\\n .../csse_covid_19_daily_reports/11-16-2021.csv     |   24 +-\\n .../csse_covid_19_daily_reports/11-17-2021.csv     |   24 +-\\n .../csse_covid_19_daily_reports/11-18-2021.csv     |   24 +-\\n .../csse_covid_19_daily_reports/11-19-2021.csv     |   24 +-\\n .../csse_covid_19_daily_reports/11-20-2021.csv     |   24 +-\\n .../csse_covid_19_daily_reports/11-21-2021.csv     |   24 +-\\n .../csse_covid_19_daily_reports/11-22-2021.csv     |   24 +-\\n .../csse_covid_19_daily_reports/11-23-2021.csv     |   24 +-\\n .../csse_covid_19_daily_reports/11-24-2021.csv     |   24 +-\\n .../csse_covid_19_daily_reports/11-25-2021.csv     |   24 +-\\n .../csse_covid_19_daily_reports/11-26-2021.csv     |   24 +-\\n .../csse_covid_19_daily_reports/11-27-2021.csv     |   24 +-\\n .../csse_covid_19_daily_reports/11-28-2021.csv     |   24 +-\\n .../csse_covid_19_daily_reports/11-29-2021.csv     |   24 +-\\n .../csse_covid_19_daily_reports/11-30-2021.csv     |   24 +-\\n .../csse_covid_19_daily_reports/12-01-2021.csv     |   24 +-\\n .../csse_covid_19_daily_reports/12-02-2021.csv     |   24 +-\\n .../csse_covid_19_daily_reports/12-03-2021.csv     |   24 +-\\n .../csse_covid_19_daily_reports/12-04-2021.csv     |   24 +-\\n .../csse_covid_19_daily_reports/12-05-2021.csv     |   24 +-\\n .../csse_covid_19_daily_reports/12-06-2021.csv     |   24 +-\\n .../csse_covid_19_daily_reports/12-07-2021.csv     |   24 +-\\n .../csse_covid_19_daily_reports/12-08-2021.csv     |   24 +-\\n .../csse_covid_19_daily_reports/12-09-2021.csv     |   24 +-\\n .../csse_covid_19_daily_reports/12-10-2021.csv     |   24 +-\\n .../csse_covid_19_daily_reports/12-11-2021.csv     |   24 +-\\n .../csse_covid_19_daily_reports/12-12-2021.csv     |   24 +-\\n .../csse_covid_19_daily_reports/12-13-2021.csv     |   24 +-\\n .../csse_covid_19_daily_reports/12-14-2021.csv     |   24 +-\\n .../csse_covid_19_daily_reports/12-15-2021.csv     |   24 +-\\n .../csse_covid_19_daily_reports/12-16-2021.csv     |   24 +-\\n .../csse_covid_19_daily_reports/12-17-2021.csv     |   24 +-\\n .../csse_covid_19_daily_reports/12-18-2021.csv     |   24 +-\\n .../csse_covid_19_daily_reports/12-19-2021.csv     |   24 +-\\n .../csse_covid_19_daily_reports/12-20-2021.csv     |   24 +-\\n .../csse_covid_19_daily_reports/12-21-2021.csv     |   24 +-\\n .../csse_covid_19_daily_reports/12-22-2021.csv     |   24 +-\\n .../csse_covid_19_daily_reports/12-23-2021.csv     |   24 +-\\n .../csse_covid_19_daily_reports/12-24-2021.csv     |   24 +-\\n .../csse_covid_19_daily_reports/12-25-2021.csv     |   24 +-\\n .../csse_covid_19_daily_reports/12-26-2021.csv     |   24 +-\\n .../csse_covid_19_daily_reports/12-27-2021.csv     |   24 +-\\n .../csse_covid_19_daily_reports/12-28-2021.csv     |   24 +-\\n .../csse_covid_19_daily_reports/12-29-2021.csv     |   24 +-\\n .../csse_covid_19_daily_reports/12-30-2021.csv     |   24 +-\\n .../csse_covid_19_daily_reports/12-31-2021.csv     |   24 +-\\n .../csse_covid_19_daily_reports_us/01-01-2022.csv  |    2 +-\\n .../csse_covid_19_daily_reports_us/01-02-2022.csv  |    2 +-\\n .../csse_covid_19_daily_reports_us/01-03-2022.csv  |    2 +-\\n .../csse_covid_19_daily_reports_us/01-04-2022.csv  |    2 +-\\n .../csse_covid_19_daily_reports_us/01-05-2021.csv  |    2 +-\\n .../csse_covid_19_daily_reports_us/01-05-2022.csv  |    2 +-\\n .../csse_covid_19_daily_reports_us/01-06-2021.csv  |    2 +-\\n .../csse_covid_19_daily_reports_us/01-06-2022.csv  |    2 +-\\n .../csse_covid_19_daily_reports_us/01-07-2021.csv  |    2 +-\\n .../csse_covid_19_daily_reports_us/01-07-2022.csv  |    2 +-\\n .../csse_covid_19_daily_reports_us/01-08-2021.csv  |    2 +-\\n .../csse_covid_19_daily_reports_us/01-08-2022.csv  |    2 +-\\n .../csse_covid_19_daily_reports_us/01-09-2021.csv  |    2 +-\\n .../csse_covid_19_daily_reports_us/01-09-2022.csv  |    2 +-\\n .../csse_covid_19_daily_reports_us/01-10-2021.csv  |    2 +-\\n .../csse_covid_19_daily_reports_us/01-10-2022.csv  |    2 +-\\n .../csse_covid_19_daily_reports_us/01-11-2021.csv  |    2 +-\\n .../csse_covid_19_daily_reports_us/01-11-2022.csv  |    2 +-\\n .../csse_covid_19_daily_reports_us/01-12-2021.csv  |    2 +-\\n .../csse_covid_19_daily_reports_us/01-12-2022.csv  |    2 +-\\n .../csse_covid_19_daily_reports_us/01-13-2021.csv  |    2 +-\\n .../csse_covid_19_daily_reports_us/01-13-2022.csv  |    2 +-\\n .../csse_covid_19_daily_reports_us/01-14-2021.csv  |    2 +-\\n .../csse_covid_19_daily_reports_us/01-14-2022.csv  |    2 +-\\n .../csse_covid_19_daily_reports_us/01-15-2021.csv  |    2 +-\\n .../csse_covid_19_daily_reports_us/01-15-2022.csv  |    2 +-\\n .../csse_covid_19_daily_reports_us/01-16-2021.csv  |    2 +-\\n .../csse_covid_19_daily_reports_us/01-16-2022.csv  |    2 +-\\n .../csse_covid_19_daily_reports_us/01-17-2021.csv  |    2 +-\\n .../csse_covid_19_daily_reports_us/01-17-2022.csv  |    2 +-\\n .../csse_covid_19_daily_reports_us/01-18-2021.csv  |    2 +-\\n .../csse_covid_19_daily_reports_us/01-18-2022.csv  |    2 +-\\n .../csse_covid_19_daily_reports_us/01-19-2021.csv  |    2 +-\\n .../csse_covid_19_daily_reports_us/01-19-2022.csv  |    2 +-\\n .../csse_covid_19_daily_reports_us/01-20-2021.csv  |    2 +-\\n .../csse_covid_19_daily_reports_us/01-20-2022.csv  |    2 +-\\n .../csse_covid_19_daily_reports_us/01-21-2021.csv  |    2 +-\\n .../csse_covid_19_daily_reports_us/01-21-2022.csv  |    2 +-\\n .../csse_covid_19_daily_reports_us/01-22-2021.csv  |    2 +-\\n .../csse_covid_19_daily_reports_us/01-22-2022.csv  |    2 +-\\n .../csse_covid_19_daily_reports_us/01-23-2021.csv  |    2 +-\\n .../csse_covid_19_daily_reports_us/01-23-2022.csv  |    2 +-\\n .../csse_covid_19_daily_reports_us/01-24-2021.csv  |    2 +-\\n .../csse_covid_19_daily_reports_us/01-24-2022.csv  |    2 +-\\n .../csse_covid_19_daily_reports_us/01-25-2021.csv  |    2 +-\\n .../csse_covid_19_daily_reports_us/01-25-2022.csv  |    2 +-\\n .../csse_covid_19_daily_reports_us/01-26-2021.csv  |    2 +-\\n .../csse_covid_19_daily_reports_us/01-26-2022.csv  |    2 +-\\n .../csse_covid_19_daily_reports_us/01-27-2021.csv  |    2 +-\\n .../csse_covid_19_daily_reports_us/01-27-2022.csv  |    2 +-\\n .../csse_covid_19_daily_reports_us/01-28-2021.csv  |    2 +-\\n .../csse_covid_19_daily_reports_us/01-28-2022.csv  |    2 +-\\n .../csse_covid_19_daily_reports_us/01-29-2021.csv  |    2 +-\\n .../csse_covid_19_daily_reports_us/01-29-2022.csv  |    2 +-\\n .../csse_covid_19_daily_reports_us/01-30-2021.csv  |    2 +-\\n .../csse_covid_19_daily_reports_us/01-30-2022.csv  |    2 +-\\n .../csse_covid_19_daily_reports_us/01-31-2021.csv  |    2 +-\\n .../csse_covid_19_daily_reports_us/01-31-2022.csv  |    2 +-\\n .../csse_covid_19_daily_reports_us/02-01-2021.csv  |    2 +-\\n .../csse_covid_19_daily_reports_us/02-01-2022.csv  |    2 +-\\n .../csse_covid_19_daily_reports_us/02-02-2021.csv  |    2 +-\\n .../csse_covid_19_daily_reports_us/02-02-2022.csv  |    2 +-\\n .../csse_covid_19_daily_reports_us/02-03-2021.csv  |    2 +-\\n .../csse_covid_19_daily_reports_us/02-03-2022.csv  |    2 +-\\n .../csse_covid_19_daily_reports_us/02-04-2021.csv  |    2 +-\\n .../csse_covid_19_daily_reports_us/02-04-2022.csv  |    2 +-\\n .../csse_covid_19_daily_reports_us/02-05-2021.csv  |    2 +-\\n .../csse_covid_19_daily_reports_us/02-05-2022.csv  |    2 +-\\n .../csse_covid_19_daily_reports_us/02-06-2021.csv  |    2 +-\\n .../csse_covid_19_daily_reports_us/02-06-2022.csv  |    2 +-\\n .../csse_covid_19_daily_reports_us/02-07-2021.csv  |    2 +-\\n .../csse_covid_19_daily_reports_us/02-07-2022.csv  |    2 +-\\n .../csse_covid_19_daily_reports_us/02-08-2021.csv  |    2 +-\\n .../csse_covid_19_daily_reports_us/02-08-2022.csv  |    2 +-\\n .../csse_covid_19_daily_reports_us/02-09-2021.csv  |    2 +-\\n .../csse_covid_19_daily_reports_us/02-09-2022.csv  |    2 +-\\n .../csse_covid_19_daily_reports_us/02-10-2021.csv  |    2 +-\\n .../csse_covid_19_daily_reports_us/02-10-2022.csv  |    2 +-\\n .../csse_covid_19_daily_reports_us/02-11-2021.csv  |    2 +-\\n .../csse_covid_19_daily_reports_us/02-11-2022.csv  |    2 +-\\n .../csse_covid_19_daily_reports_us/02-12-2021.csv  |    2 +-\\n .../csse_covid_19_daily_reports_us/02-12-2022.csv  |    2 +-\\n .../csse_covid_19_daily_reports_us/02-13-2021.csv  |    2 +-\\n .../csse_covid_19_daily_reports_us/02-13-2022.csv  |    2 +-\\n .../csse_covid_19_daily_reports_us/02-14-2021.csv  |    2 +-\\n .../csse_covid_19_daily_reports_us/02-14-2022.csv  |    2 +-\\n .../csse_covid_19_daily_reports_us/02-15-2021.csv  |    2 +-\\n .../csse_covid_19_daily_reports_us/02-15-2022.csv  |    2 +-\\n .../csse_covid_19_daily_reports_us/02-16-2021.csv  |    2 +-\\n .../csse_covid_19_daily_reports_us/02-16-2022.csv  |    2 +-\\n .../csse_covid_19_daily_reports_us/02-17-2021.csv  |    2 +-\\n .../csse_covid_19_daily_reports_us/02-17-2022.csv  |    2 +-\\n .../csse_covid_19_daily_reports_us/02-18-2021.csv  |    2 +-\\n .../csse_covid_19_daily_reports_us/02-18-2022.csv  |    2 +-\\n .../csse_covid_19_daily_reports_us/02-19-2021.csv  |    2 +-\\n .../csse_covid_19_daily_reports_us/02-19-2022.csv  |    2 +-\\n .../csse_covid_19_daily_reports_us/02-20-2021.csv  |    2 +-\\n .../csse_covid_19_daily_reports_us/02-20-2022.csv  |    2 +-\\n .../csse_covid_19_daily_reports_us/02-21-2021.csv  |    2 +-\\n .../csse_covid_19_daily_reports_us/02-21-2022.csv  |    2 +-\\n .../csse_covid_19_daily_reports_us/02-22-2021.csv  |    2 +-\\n .../csse_covid_19_daily_reports_us/02-22-2022.csv  |    2 +-\\n .../csse_covid_19_daily_reports_us/02-23-2021.csv  |    2 +-\\n .../csse_covid_19_daily_reports_us/02-23-2022.csv  |    2 +-\\n .../csse_covid_19_daily_reports_us/02-24-2021.csv  |    2 +-\\n .../csse_covid_19_daily_reports_us/02-24-2022.csv  |    2 +-\\n .../csse_covid_19_daily_reports_us/02-25-2021.csv  |    2 +-\\n .../csse_covid_19_daily_reports_us/02-25-2022.csv  |    2 +-\\n .../csse_covid_19_daily_reports_us/02-26-2021.csv  |    2 +-\\n .../csse_covid_19_daily_reports_us/02-26-2022.csv  |    2 +-\\n .../csse_covid_19_daily_reports_us/02-27-2021.csv  |    2 +-\\n .../csse_covid_19_daily_reports_us/02-27-2022.csv  |    2 +-\\n .../csse_covid_19_daily_reports_us/02-28-2021.csv  |    2 +-\\n .../csse_covid_19_daily_reports_us/02-28-2022.csv  |    2 +-\\n .../csse_covid_19_daily_reports_us/03-01-2021.csv  |    2 +-\\n .../csse_covid_19_daily_reports_us/03-01-2022.csv  |    2 +-\\n .../csse_covid_19_daily_reports_us/03-02-2021.csv  |    2 +-\\n .../csse_covid_19_daily_reports_us/03-02-2022.csv  |    2 +-\\n .../csse_covid_19_daily_reports_us/03-03-2021.csv  |    2 +-\\n .../csse_covid_19_daily_reports_us/03-03-2022.csv  |    2 +-\\n .../csse_covid_19_daily_reports_us/03-04-2021.csv  |    2 +-\\n .../csse_covid_19_daily_reports_us/03-04-2022.csv  |    2 +-\\n .../csse_covid_19_daily_reports_us/03-05-2021.csv  |    2 +-\\n .../csse_covid_19_daily_reports_us/03-05-2022.csv  |    2 +-\\n .../csse_covid_19_daily_reports_us/03-06-2021.csv  |    2 +-\\n .../csse_covid_19_daily_reports_us/03-06-2022.csv  |    2 +-\\n .../csse_covid_19_daily_reports_us/03-07-2021.csv  |    2 +-\\n .../csse_covid_19_daily_reports_us/03-07-2022.csv  |    2 +-\\n .../csse_covid_19_daily_reports_us/03-08-2021.csv  |    2 +-\\n .../csse_covid_19_daily_reports_us/03-08-2022.csv  |    2 +-\\n .../csse_covid_19_daily_reports_us/03-09-2021.csv  |    2 +-\\n .../csse_covid_19_daily_reports_us/03-09-2022.csv  |    2 +-\\n .../csse_covid_19_daily_reports_us/03-10-2021.csv  |    2 +-\\n .../csse_covid_19_daily_reports_us/03-10-2022.csv  |    2 +-\\n .../csse_covid_19_daily_reports_us/03-11-2021.csv  |    2 +-\\n .../csse_covid_19_daily_reports_us/03-11-2022.csv  |    2 +-\\n .../csse_covid_19_daily_reports_us/03-12-2021.csv  |    2 +-\\n .../csse_covid_19_daily_reports_us/03-12-2022.csv  |    2 +-\\n .../csse_covid_19_daily_reports_us/03-13-2021.csv  |    2 +-\\n .../csse_covid_19_daily_reports_us/03-13-2022.csv  |    2 +-\\n .../csse_covid_19_daily_reports_us/03-14-2021.csv  |    2 +-\\n .../csse_covid_19_daily_reports_us/03-14-2022.csv  |    2 +-\\n .../csse_covid_19_daily_reports_us/03-15-2021.csv  |    2 +-\\n .../csse_covid_19_daily_reports_us/03-15-2022.csv  |    2 +-\\n .../csse_covid_19_daily_reports_us/03-16-2021.csv  |    2 +-\\n .../csse_covid_19_daily_reports_us/03-16-2022.csv  |    2 +-\\n .../csse_covid_19_daily_reports_us/03-17-2021.csv  |    2 +-\\n .../csse_covid_19_daily_reports_us/03-17-2022.csv  |    2 +-\\n .../csse_covid_19_daily_reports_us/03-18-2021.csv  |    2 +-\\n .../csse_covid_19_daily_reports_us/03-18-2022.csv  |    2 +-\\n .../csse_covid_19_daily_reports_us/03-19-2021.csv  |    2 +-\\n .../csse_covid_19_daily_reports_us/03-19-2022.csv  |    2 +-\\n .../csse_covid_19_daily_reports_us/03-20-2021.csv  |    2 +-\\n .../csse_covid_19_daily_reports_us/03-20-2022.csv  |    2 +-\\n .../csse_covid_19_daily_reports_us/03-21-2021.csv  |    2 +-\\n .../csse_covid_19_daily_reports_us/03-21-2022.csv  |    2 +-\\n .../csse_covid_19_daily_reports_us/03-22-2021.csv  |    2 +-\\n .../csse_covid_19_daily_reports_us/03-22-2022.csv  |    2 +-\\n .../csse_covid_19_daily_reports_us/03-23-2021.csv  |    2 +-\\n .../csse_covid_19_daily_reports_us/03-23-2022.csv  |    2 +-\\n .../csse_covid_19_daily_reports_us/03-24-2021.csv  |    2 +-\\n .../csse_covid_19_daily_reports_us/03-24-2022.csv  |    2 +-\\n .../csse_covid_19_daily_reports_us/03-25-2021.csv  |    2 +-\\n .../csse_covid_19_daily_reports_us/03-25-2022.csv  |    2 +-\\n .../csse_covid_19_daily_reports_us/03-26-2021.csv  |    2 +-\\n .../csse_covid_19_daily_reports_us/03-26-2022.csv  |    2 +-\\n .../csse_covid_19_daily_reports_us/03-27-2021.csv  |    2 +-\\n .../csse_covid_19_daily_reports_us/03-27-2022.csv  |    2 +-\\n .../csse_covid_19_daily_reports_us/03-28-2021.csv  |    2 +-\\n .../csse_covid_19_daily_reports_us/03-28-2022.csv  |    2 +-\\n .../csse_covid_19_daily_reports_us/03-29-2021.csv  |    2 +-\\n .../csse_covid_19_daily_reports_us/03-29-2022.csv  |    2 +-\\n .../csse_covid_19_daily_reports_us/03-30-2021.csv  |    2 +-\\n .../csse_covid_19_daily_reports_us/03-30-2022.csv  |    2 +-\\n .../csse_covid_19_daily_reports_us/03-31-2021.csv  |    2 +-\\n .../csse_covid_19_daily_reports_us/03-31-2022.csv  |    2 +-\\n .../csse_covid_19_daily_reports_us/04-01-2021.csv  |    2 +-\\n .../csse_covid_19_daily_reports_us/04-01-2022.csv  |    2 +-\\n .../csse_covid_19_daily_reports_us/04-02-2021.csv  |    2 +-\\n .../csse_covid_19_daily_reports_us/04-02-2022.csv  |    2 +-\\n .../csse_covid_19_daily_reports_us/04-03-2021.csv  |    2 +-\\n .../csse_covid_19_daily_reports_us/04-03-2022.csv  |    2 +-\\n .../csse_covid_19_daily_reports_us/04-04-2021.csv  |    2 +-\\n .../csse_covid_19_daily_reports_us/04-04-2022.csv  |    2 +-\\n .../csse_covid_19_daily_reports_us/04-05-2021.csv  |    2 +-\\n .../csse_covid_19_daily_reports_us/04-05-2022.csv  |    2 +-\\n .../csse_covid_19_daily_reports_us/04-06-2021.csv  |    2 +-\\n .../csse_covid_19_daily_reports_us/04-06-2022.csv  |    2 +-\\n .../csse_covid_19_daily_reports_us/04-07-2021.csv  |    2 +-\\n .../csse_covid_19_daily_reports_us/04-07-2022.csv  |    2 +-\\n .../csse_covid_19_daily_reports_us/04-08-2021.csv  |    2 +-\\n .../csse_covid_19_daily_reports_us/04-08-2022.csv  |    2 +-\\n .../csse_covid_19_daily_reports_us/04-09-2021.csv  |    2 +-\\n .../csse_covid_19_daily_reports_us/04-09-2022.csv  |    2 +-\\n .../csse_covid_19_daily_reports_us/04-10-2021.csv  |    2 +-\\n .../csse_covid_19_daily_reports_us/04-10-2022.csv  |    2 +-\\n .../csse_covid_19_daily_reports_us/04-11-2021.csv  |    2 +-\\n .../csse_covid_19_daily_reports_us/04-11-2022.csv  |    2 +-\\n .../csse_covid_19_daily_reports_us/04-12-2020.csv  |  118 +-\\n .../csse_covid_19_daily_reports_us/04-12-2021.csv  |    2 +-\\n .../csse_covid_19_daily_reports_us/04-12-2022.csv  |    2 +-\\n .../csse_covid_19_daily_reports_us/04-13-2020.csv  |  118 +-\\n .../csse_covid_19_daily_reports_us/04-13-2021.csv  |    2 +-\\n .../csse_covid_19_daily_reports_us/04-13-2022.csv  |    2 +-\\n .../csse_covid_19_daily_reports_us/04-14-2020.csv  |  118 +-\\n .../csse_covid_19_daily_reports_us/04-14-2021.csv  |    2 +-\\n .../csse_covid_19_daily_reports_us/04-14-2022.csv  |    2 +-\\n .../csse_covid_19_daily_reports_us/04-15-2020.csv  |  118 +-\\n .../csse_covid_19_daily_reports_us/04-15-2021.csv  |    2 +-\\n .../csse_covid_19_daily_reports_us/04-15-2022.csv  |    2 +-\\n .../csse_covid_19_daily_reports_us/04-16-2020.csv  |  118 +-\\n .../csse_covid_19_daily_reports_us/04-16-2021.csv  |    2 +-\\n .../csse_covid_19_daily_reports_us/04-16-2022.csv  |    2 +-\\n .../csse_covid_19_daily_reports_us/04-17-2020.csv  |  118 +-\\n .../csse_covid_19_daily_reports_us/04-17-2021.csv  |    2 +-\\n .../csse_covid_19_daily_reports_us/04-17-2022.csv  |    2 +-\\n .../csse_covid_19_daily_reports_us/04-18-2020.csv  |  118 +-\\n .../csse_covid_19_daily_reports_us/04-18-2021.csv  |    2 +-\\n .../csse_covid_19_daily_reports_us/04-18-2022.csv  |    2 +-\\n .../csse_covid_19_daily_reports_us/04-19-2020.csv  |  118 +-\\n .../csse_covid_19_daily_reports_us/04-19-2021.csv  |    2 +-\\n .../csse_covid_19_daily_reports_us/04-19-2022.csv  |    2 +-\\n .../csse_covid_19_daily_reports_us/04-20-2020.csv  |  118 +-\\n .../csse_covid_19_daily_reports_us/04-20-2021.csv  |    2 +-\\n .../csse_covid_19_daily_reports_us/04-20-2022.csv  |    2 +-\\n .../csse_covid_19_daily_reports_us/04-21-2020.csv  |  118 +-\\n .../csse_covid_19_daily_reports_us/04-21-2021.csv  |    2 +-\\n .../csse_covid_19_daily_reports_us/04-21-2022.csv  |    2 +-\\n .../csse_covid_19_daily_reports_us/04-22-2020.csv  |  118 +-\\n .../csse_covid_19_daily_reports_us/04-22-2021.csv  |    2 +-\\n .../csse_covid_19_daily_reports_us/04-22-2022.csv  |    2 +-\\n .../csse_covid_19_daily_reports_us/04-23-2020.csv  |  118 +-\\n .../csse_covid_19_daily_reports_us/04-23-2021.csv  |    2 +-\\n .../csse_covid_19_daily_reports_us/04-23-2022.csv  |    2 +-\\n .../csse_covid_19_daily_reports_us/04-24-2020.csv  |  118 +-\\n .../csse_covid_19_daily_reports_us/04-24-2021.csv  |    2 +-\\n .../csse_covid_19_daily_reports_us/04-24-2022.csv  |    2 +-\\n .../csse_covid_19_daily_reports_us/04-25-2020.csv  |  118 +-\\n .../csse_covid_19_daily_reports_us/04-25-2021.csv  |    2 +-\\n .../csse_covid_19_daily_reports_us/04-25-2022.csv  |    2 +-\\n .../csse_covid_19_daily_reports_us/04-26-2020.csv  |  118 +-\\n .../csse_covid_19_daily_reports_us/04-26-2021.csv  |    2 +-\\n .../csse_covid_19_daily_reports_us/04-26-2022.csv  |    2 +-\\n .../csse_covid_19_daily_reports_us/04-27-2020.csv  |  118 +-\\n .../csse_covid_19_daily_reports_us/04-27-2021.csv  |    2 +-\\n .../csse_covid_19_daily_reports_us/04-27-2022.csv  |    2 +-\\n .../csse_covid_19_daily_reports_us/04-28-2020.csv  |  118 +-\\n .../csse_covid_19_daily_reports_us/04-28-2021.csv  |    2 +-\\n .../csse_covid_19_daily_reports_us/04-28-2022.csv  |    2 +-\\n .../csse_covid_19_daily_reports_us/04-29-2020.csv  |  118 +-\\n .../csse_covid_19_daily_reports_us/04-29-2021.csv  |    2 +-\\n .../csse_covid_19_daily_reports_us/04-29-2022.csv  |    2 +-\\n .../csse_covid_19_daily_reports_us/04-30-2020.csv  |  116 +-\\n .../csse_covid_19_daily_reports_us/04-30-2021.csv  |    2 +-\\n .../csse_covid_19_daily_reports_us/04-30-2022.csv  |    2 +-\\n .../csse_covid_19_daily_reports_us/05-01-2020.csv  |  116 +-\\n .../csse_covid_19_daily_reports_us/05-01-2021.csv  |    2 +-\\n .../csse_covid_19_daily_reports_us/05-01-2022.csv  |    2 +-\\n .../csse_covid_19_daily_reports_us/05-02-2020.csv  |  116 +-\\n .../csse_covid_19_daily_reports_us/05-02-2021.csv  |    2 +-\\n .../csse_covid_19_daily_reports_us/05-02-2022.csv  |    2 +-\\n .../csse_covid_19_daily_reports_us/05-03-2020.csv  |  116 +-\\n .../csse_covid_19_daily_reports_us/05-03-2021.csv  |    2 +-\\n .../csse_covid_19_daily_reports_us/05-03-2022.csv  |    2 +-\\n .../csse_covid_19_daily_reports_us/05-04-2020.csv  |  116 +-\\n .../csse_covid_19_daily_reports_us/05-04-2021.csv  |    2 +-\\n .../csse_covid_19_daily_reports_us/05-04-2022.csv  |    2 +-\\n .../csse_covid_19_daily_reports_us/05-05-2020.csv  |  116 +-\\n .../csse_covid_19_daily_reports_us/05-05-2021.csv  |    2 +-\\n .../csse_covid_19_daily_reports_us/05-05-2022.csv  |    2 +-\\n .../csse_covid_19_daily_reports_us/05-06-2020.csv  |  116 +-\\n .../csse_covid_19_daily_reports_us/05-06-2021.csv  |    2 +-\\n .../csse_covid_19_daily_reports_us/05-06-2022.csv  |    2 +-\\n .../csse_covid_19_daily_reports_us/05-07-2020.csv  |  116 +-\\n .../csse_covid_19_daily_reports_us/05-07-2021.csv  |    2 +-\\n .../csse_covid_19_daily_reports_us/05-07-2022.csv  |    2 +-\\n .../csse_covid_19_daily_reports_us/05-08-2020.csv  |  116 +-\\n .../csse_covid_19_daily_reports_us/05-08-2021.csv  |    2 +-\\n .../csse_covid_19_daily_reports_us/05-08-2022.csv  |    2 +-\\n .../csse_covid_19_daily_reports_us/05-09-2020.csv  |  116 +-\\n .../csse_covid_19_daily_reports_us/05-09-2021.csv  |    2 +-\\n .../csse_covid_19_daily_reports_us/05-09-2022.csv  |    2 +-\\n .../csse_covid_19_daily_reports_us/05-10-2020.csv  |  116 +-\\n .../csse_covid_19_daily_reports_us/05-10-2021.csv  |    2 +-\\n .../csse_covid_19_daily_reports_us/05-10-2022.csv  |    2 +-\\n .../csse_covid_19_daily_reports_us/05-11-2020.csv  |  116 +-\\n .../csse_covid_19_daily_reports_us/05-11-2021.csv  |    2 +-\\n .../csse_covid_19_daily_reports_us/05-11-2022.csv  |    2 +-\\n .../csse_covid_19_daily_reports_us/05-12-2020.csv  |  116 +-\\n .../csse_covid_19_daily_reports_us/05-12-2021.csv  |    2 +-\\n .../csse_covid_19_daily_reports_us/05-12-2022.csv  |    2 +-\\n .../csse_covid_19_daily_reports_us/05-13-2020.csv  |  116 +-\\n .../csse_covid_19_daily_reports_us/05-13-2021.csv  |    2 +-\\n .../csse_covid_19_daily_reports_us/05-13-2022.csv  |    2 +-\\n .../csse_covid_19_daily_reports_us/05-14-2020.csv  |  116 +-\\n .../csse_covid_19_daily_reports_us/05-14-2021.csv  |    2 +-\\n .../csse_covid_19_daily_reports_us/05-14-2022.csv  |    2 +-\\n .../csse_covid_19_daily_reports_us/05-15-2020.csv  |  116 +-\\n .../csse_covid_19_daily_reports_us/05-15-2021.csv  |    2 +-\\n .../csse_covid_19_daily_reports_us/05-15-2022.csv  |    2 +-\\n .../csse_covid_19_daily_reports_us/05-16-2020.csv  |  116 +-\\n .../csse_covid_19_daily_reports_us/05-16-2021.csv  |    2 +-\\n .../csse_covid_19_daily_reports_us/05-16-2022.csv  |    2 +-\\n .../csse_covid_19_daily_reports_us/05-17-2020.csv  |  116 +-\\n .../csse_covid_19_daily_reports_us/05-17-2021.csv  |    2 +-\\n .../csse_covid_19_daily_reports_us/05-17-2022.csv  |    2 +-\\n .../csse_covid_19_daily_reports_us/05-18-2020.csv  |  116 +-\\n .../csse_covid_19_daily_reports_us/05-18-2021.csv  |    2 +-\\n .../csse_covid_19_daily_reports_us/05-18-2022.csv  |    2 +-\\n .../csse_covid_19_daily_reports_us/05-19-2020.csv  |  116 +-\\n .../csse_covid_19_daily_reports_us/05-19-2021.csv  |    2 +-\\n .../csse_covid_19_daily_reports_us/05-19-2022.csv  |    2 +-\\n .../csse_covid_19_daily_reports_us/05-20-2020.csv  |  116 +-\\n .../csse_covid_19_daily_reports_us/05-20-2021.csv  |    2 +-\\n .../csse_covid_19_daily_reports_us/05-20-2022.csv  |    2 +-\\n .../csse_covid_19_daily_reports_us/05-21-2020.csv  |  116 +-\\n .../csse_covid_19_daily_reports_us/05-21-2021.csv  |    2 +-\\n .../csse_covid_19_daily_reports_us/05-21-2022.csv  |    2 +-\\n .../csse_covid_19_daily_reports_us/05-22-2020.csv  |  116 +-\\n .../csse_covid_19_daily_reports_us/05-22-2021.csv  |    2 +-\\n .../csse_covid_19_daily_reports_us/05-22-2022.csv  |    2 +-\\n .../csse_covid_19_daily_reports_us/05-23-2020.csv  |  116 +-\\n .../csse_covid_19_daily_reports_us/05-23-2021.csv  |    2 +-\\n .../csse_covid_19_daily_reports_us/05-23-2022.csv  |    2 +-\\n .../csse_covid_19_daily_reports_us/05-24-2020.csv  |  116 +-\\n .../csse_covid_19_daily_reports_us/05-24-2021.csv  |    2 +-\\n .../csse_covid_19_daily_reports_us/05-24-2022.csv  |    2 +-\\n .../csse_covid_19_daily_reports_us/05-25-2020.csv  |  116 +-\\n .../csse_covid_19_daily_reports_us/05-25-2021.csv  |    2 +-\\n .../csse_covid_19_daily_reports_us/05-25-2022.csv  |    2 +-\\n .../csse_covid_19_daily_reports_us/05-26-2020.csv  |  116 +-\\n .../csse_covid_19_daily_reports_us/05-26-2021.csv  |    2 +-\\n .../csse_covid_19_daily_reports_us/05-26-2022.csv  |    2 +-\\n .../csse_covid_19_daily_reports_us/05-27-2020.csv  |  116 +-\\n .../csse_covid_19_daily_reports_us/05-27-2021.csv  |    2 +-\\n .../csse_covid_19_daily_reports_us/05-27-2022.csv  |    2 +-\\n .../csse_covid_19_daily_reports_us/05-28-2020.csv  |  116 +-\\n .../csse_covid_19_daily_reports_us/05-28-2021.csv  |    2 +-\\n .../csse_covid_19_daily_reports_us/05-28-2022.csv  |    2 +-\\n .../csse_covid_19_daily_reports_us/05-29-2020.csv  |  116 +-\\n .../csse_covid_19_daily_reports_us/05-29-2021.csv  |    2 +-\\n .../csse_covid_19_daily_reports_us/05-29-2022.csv  |    2 +-\\n .../csse_covid_19_daily_reports_us/05-30-2020.csv  |  116 +-\\n .../csse_covid_19_daily_reports_us/05-30-2021.csv  |    2 +-\\n .../csse_covid_19_daily_reports_us/05-30-2022.csv  |    2 +-\\n .../csse_covid_19_daily_reports_us/05-31-2020.csv  |  116 +-\\n .../csse_covid_19_daily_reports_us/05-31-2021.csv  |    2 +-\\n .../csse_covid_19_daily_reports_us/05-31-2022.csv  |    2 +-\\n .../csse_covid_19_daily_reports_us/06-01-2020.csv  |  116 +-\\n .../csse_covid_19_daily_reports_us/06-01-2021.csv  |    2 +-\\n .../csse_covid_19_daily_reports_us/06-01-2022.csv  |    2 +-\\n .../csse_covid_19_daily_reports_us/06-02-2020.csv  |  116 +-\\n .../csse_covid_19_daily_reports_us/06-02-2021.csv  |    2 +-\\n .../csse_covid_19_daily_reports_us/06-02-2022.csv  |    2 +-\\n .../csse_covid_19_daily_reports_us/06-03-2020.csv  |  116 +-\\n .../csse_covid_19_daily_reports_us/06-03-2021.csv  |    2 +-\\n .../csse_covid_19_daily_reports_us/06-03-2022.csv  |    2 +-\\n .../csse_covid_19_daily_reports_us/06-04-2020.csv  |  116 +-\\n .../csse_covid_19_daily_reports_us/06-04-2021.csv  |    2 +-\\n .../csse_covid_19_daily_reports_us/06-04-2022.csv  |    2 +-\\n .../csse_covid_19_daily_reports_us/06-05-2020.csv  |  116 +-\\n .../csse_covid_19_daily_reports_us/06-05-2021.csv  |    2 +-\\n .../csse_covid_19_daily_reports_us/06-05-2022.csv  |    2 +-\\n .../csse_covid_19_daily_reports_us/06-06-2020.csv  |  116 +-\\n .../csse_covid_19_daily_reports_us/06-06-2021.csv  |    2 +-\\n .../csse_covid_19_daily_reports_us/06-06-2022.csv  |    2 +-\\n .../csse_covid_19_daily_reports_us/06-07-2020.csv  |  116 +-\\n .../csse_covid_19_daily_reports_us/06-07-2021.csv  |    2 +-\\n .../csse_covid_19_daily_reports_us/06-07-2022.csv  |    2 +-\\n .../csse_covid_19_daily_reports_us/06-08-2020.csv  |  116 +-\\n .../csse_covid_19_daily_reports_us/06-08-2021.csv  |    2 +-\\n .../csse_covid_19_daily_reports_us/06-08-2022.csv  |    2 +-\\n .../csse_covid_19_daily_reports_us/06-09-2020.csv  |  116 +-\\n .../csse_covid_19_daily_reports_us/06-09-2021.csv  |    2 +-\\n .../csse_covid_19_daily_reports_us/06-09-2022.csv  |    2 +-\\n .../csse_covid_19_daily_reports_us/06-10-2020.csv  |  116 +-\\n .../csse_covid_19_daily_reports_us/06-10-2021.csv  |    2 +-\\n .../csse_covid_19_daily_reports_us/06-10-2022.csv  |    2 +-\\n .../csse_covid_19_daily_reports_us/06-11-2020.csv  |  116 +-\\n .../csse_covid_19_daily_reports_us/06-11-2021.csv  |    2 +-\\n .../csse_covid_19_daily_reports_us/06-11-2022.csv  |    2 +-\\n .../csse_covid_19_daily_reports_us/06-12-2020.csv  |  116 +-\\n .../csse_covid_19_daily_reports_us/06-12-2021.csv  |    2 +-\\n .../csse_covid_19_daily_reports_us/06-12-2022.csv  |    2 +-\\n .../csse_covid_19_daily_reports_us/06-13-2020.csv  |  116 +-\\n .../csse_covid_19_daily_reports_us/06-13-2021.csv  |    2 +-\\n .../csse_covid_19_daily_reports_us/06-13-2022.csv  |    2 +-\\n .../csse_covid_19_daily_reports_us/06-14-2020.csv  |  116 +-\\n .../csse_covid_19_daily_reports_us/06-14-2021.csv  |    2 +-\\n .../csse_covid_19_daily_reports_us/06-14-2022.csv  |    2 +-\\n .../csse_covid_19_daily_reports_us/06-15-2020.csv  |  116 +-\\n .../csse_covid_19_daily_reports_us/06-15-2021.csv  |    2 +-\\n .../csse_covid_19_daily_reports_us/06-15-2022.csv  |    2 +-\\n .../csse_covid_19_daily_reports_us/06-16-2020.csv  |  116 +-\\n .../csse_covid_19_daily_reports_us/06-16-2021.csv  |    2 +-\\n .../csse_covid_19_daily_reports_us/06-16-2022.csv  |    2 +-\\n .../csse_covid_19_daily_reports_us/06-17-2020.csv  |  116 +-\\n .../csse_covid_19_daily_reports_us/06-17-2021.csv  |    2 +-\\n .../csse_covid_19_daily_reports_us/06-17-2022.csv  |    2 +-\\n .../csse_covid_19_daily_reports_us/06-18-2020.csv  |  116 +-\\n .../csse_covid_19_daily_reports_us/06-18-2021.csv  |    2 +-\\n .../csse_covid_19_daily_reports_us/06-18-2022.csv  |    2 +-\\n .../csse_covid_19_daily_reports_us/06-19-2020.csv  |  116 +-\\n .../csse_covid_19_daily_reports_us/06-19-2021.csv  |    2 +-\\n .../csse_covid_19_daily_reports_us/06-19-2022.csv  |    2 +-\\n .../csse_covid_19_daily_reports_us/06-20-2020.csv  |  116 +-\\n .../csse_covid_19_daily_reports_us/06-20-2021.csv  |    2 +-\\n .../csse_covid_19_daily_reports_us/06-20-2022.csv  |    2 +-\\n .../csse_covid_19_daily_reports_us/06-21-2020.csv  |  116 +-\\n .../csse_covid_19_daily_reports_us/06-21-2021.csv  |    2 +-\\n .../csse_covid_19_daily_reports_us/06-21-2022.csv  |    2 +-\\n .../csse_covid_19_daily_reports_us/06-22-2020.csv  |  116 +-\\n .../csse_covid_19_daily_reports_us/06-22-2021.csv  |    2 +-\\n .../csse_covid_19_daily_reports_us/06-22-2022.csv  |    2 +-\\n .../csse_covid_19_daily_reports_us/06-23-2020.csv  |  116 +-\\n .../csse_covid_19_daily_reports_us/06-23-2021.csv  |    2 +-\\n .../csse_covid_19_daily_reports_us/06-23-2022.csv  |    2 +-\\n .../csse_covid_19_daily_reports_us/06-24-2020.csv  |  116 +-\\n .../csse_covid_19_daily_reports_us/06-24-2021.csv  |    2 +-\\n .../csse_covid_19_daily_reports_us/06-24-2022.csv  |    2 +-\\n .../csse_covid_19_daily_reports_us/06-25-2020.csv  |  116 +-\\n .../csse_covid_19_daily_reports_us/06-25-2021.csv  |    2 +-\\n .../csse_covid_19_daily_reports_us/06-25-2022.csv  |    2 +-\\n .../csse_covid_19_daily_reports_us/06-26-2020.csv  |  116 +-\\n .../csse_covid_19_daily_reports_us/06-26-2021.csv  |    2 +-\\n .../csse_covid_19_daily_reports_us/06-26-2022.csv  |    2 +-\\n .../csse_covid_19_daily_reports_us/06-27-2020.csv  |  116 +-\\n .../csse_covid_19_daily_reports_us/06-27-2021.csv  |    2 +-\\n .../csse_covid_19_daily_reports_us/06-27-2022.csv  |    2 +-\\n .../csse_covid_19_daily_reports_us/06-28-2020.csv  |  116 +-\\n .../csse_covid_19_daily_reports_us/06-28-2021.csv  |    2 +-\\n .../csse_covid_19_daily_reports_us/06-28-2022.csv  |    2 +-\\n .../csse_covid_19_daily_reports_us/06-29-2020.csv  |  116 +-\\n .../csse_covid_19_daily_reports_us/06-29-2021.csv  |    2 +-\\n .../csse_covid_19_daily_reports_us/06-29-2022.csv  |    2 +-\\n .../csse_covid_19_daily_reports_us/06-30-2020.csv  |  116 +-\\n .../csse_covid_19_daily_reports_us/06-30-2021.csv  |    2 +-\\n .../csse_covid_19_daily_reports_us/06-30-2022.csv  |    2 +-\\n .../csse_covid_19_daily_reports_us/07-01-2020.csv  |  116 +-\\n .../csse_covid_19_daily_reports_us/07-01-2021.csv  |    2 +-\\n .../csse_covid_19_daily_reports_us/07-01-2022.csv  |    2 +-\\n .../csse_covid_19_daily_reports_us/07-02-2020.csv  |  116 +-\\n .../csse_covid_19_daily_reports_us/07-02-2021.csv  |    2 +-\\n .../csse_covid_19_daily_reports_us/07-02-2022.csv  |    2 +-\\n .../csse_covid_19_daily_reports_us/07-03-2020.csv  |  116 +-\\n .../csse_covid_19_daily_reports_us/07-03-2021.csv  |    2 +-\\n .../csse_covid_19_daily_reports_us/07-03-2022.csv  |    2 +-\\n .../csse_covid_19_daily_reports_us/07-04-2020.csv  |  116 +-\\n .../csse_covid_19_daily_reports_us/07-04-2021.csv  |    2 +-\\n .../csse_covid_19_daily_reports_us/07-04-2022.csv  |    2 +-\\n .../csse_covid_19_daily_reports_us/07-05-2020.csv  |  116 +-\\n .../csse_covid_19_daily_reports_us/07-05-2021.csv  |    2 +-\\n .../csse_covid_19_daily_reports_us/07-05-2022.csv  |    2 +-\\n .../csse_covid_19_daily_reports_us/07-06-2020.csv  |  116 +-\\n .../csse_covid_19_daily_reports_us/07-06-2021.csv  |    2 +-\\n .../csse_covid_19_daily_reports_us/07-06-2022.csv  |    2 +-\\n .../csse_covid_19_daily_reports_us/07-07-2020.csv  |  116 +-\\n .../csse_covid_19_daily_reports_us/07-07-2021.csv  |    2 +-\\n .../csse_covid_19_daily_reports_us/07-07-2022.csv  |    2 +-\\n .../csse_covid_19_daily_reports_us/07-08-2020.csv  |  116 +-\\n .../csse_covid_19_daily_reports_us/07-08-2021.csv  |    2 +-\\n .../csse_covid_19_daily_reports_us/07-08-2022.csv  |    2 +-\\n .../csse_covid_19_daily_reports_us/07-09-2020.csv  |  116 +-\\n .../csse_covid_19_daily_reports_us/07-09-2021.csv  |    2 +-\\n .../csse_covid_19_daily_reports_us/07-09-2022.csv  |    2 +-\\n .../csse_covid_19_daily_reports_us/07-10-2020.csv  |  116 +-\\n .../csse_covid_19_daily_reports_us/07-10-2021.csv  |    2 +-\\n .../csse_covid_19_daily_reports_us/07-10-2022.csv  |    2 +-\\n .../csse_covid_19_daily_reports_us/07-11-2020.csv  |  116 +-\\n .../csse_covid_19_daily_reports_us/07-11-2021.csv  |    2 +-\\n .../csse_covid_19_daily_reports_us/07-11-2022.csv  |    2 +-\\n .../csse_covid_19_daily_reports_us/07-12-2020.csv  |  116 +-\\n .../csse_covid_19_daily_reports_us/07-12-2021.csv  |    2 +-\\n .../csse_covid_19_daily_reports_us/07-12-2022.csv  |    2 +-\\n .../csse_covid_19_daily_reports_us/07-13-2020.csv  |  116 +-\\n .../csse_covid_19_daily_reports_us/07-13-2021.csv  |    2 +-\\n .../csse_covid_19_daily_reports_us/07-13-2022.csv  |    2 +-\\n .../csse_covid_19_daily_reports_us/07-14-2020.csv  |  116 +-\\n .../csse_covid_19_daily_reports_us/07-14-2021.csv  |    2 +-\\n .../csse_covid_19_daily_reports_us/07-14-2022.csv  |    2 +-\\n .../csse_covid_19_daily_reports_us/07-15-2020.csv  |  116 +-\\n .../csse_covid_19_daily_reports_us/07-15-2021.csv  |    2 +-\\n .../csse_covid_19_daily_reports_us/07-15-2022.csv  |    2 +-\\n .../csse_covid_19_daily_reports_us/07-16-2020.csv  |  116 +-\\n .../csse_covid_19_daily_reports_us/07-16-2021.csv  |    2 +-\\n .../csse_covid_19_daily_reports_us/07-16-2022.csv  |    2 +-\\n .../csse_covid_19_daily_reports_us/07-17-2020.csv  |  116 +-\\n .../csse_covid_19_daily_reports_us/07-17-2021.csv  |    2 +-\\n .../csse_covid_19_daily_reports_us/07-17-2022.csv  |    2 +-\\n .../csse_covid_19_daily_reports_us/07-18-2020.csv  |  116 +-\\n .../csse_covid_19_daily_reports_us/07-18-2021.csv  |    2 +-\\n .../csse_covid_19_daily_reports_us/07-18-2022.csv  |    2 +-\\n .../csse_covid_19_daily_reports_us/07-19-2020.csv  |  116 +-\\n .../csse_covid_19_daily_reports_us/07-19-2021.csv  |    2 +-\\n .../csse_covid_19_daily_reports_us/07-19-2022.csv  |    2 +-\\n .../csse_covid_19_daily_reports_us/07-20-2020.csv  |  116 +-\\n .../csse_covid_19_daily_reports_us/07-20-2021.csv  |    2 +-\\n .../csse_covid_19_daily_reports_us/07-20-2022.csv  |    2 +-\\n .../csse_covid_19_daily_reports_us/07-21-2020.csv  |  116 +-\\n .../csse_covid_19_daily_reports_us/07-21-2021.csv  |    2 +-\\n .../csse_covid_19_daily_reports_us/07-21-2022.csv  |    2 +-\\n .../csse_covid_19_daily_reports_us/07-22-2020.csv  |  116 +-\\n .../csse_covid_19_daily_reports_us/07-22-2021.csv  |    2 +-\\n .../csse_covid_19_daily_reports_us/07-22-2022.csv  |    2 +-\\n .../csse_covid_19_daily_reports_us/07-23-2020.csv  |  116 +-\\n .../csse_covid_19_daily_reports_us/07-23-2021.csv  |    2 +-\\n .../csse_covid_19_daily_reports_us/07-23-2022.csv  |    2 +-\\n .../csse_covid_19_daily_reports_us/07-24-2020.csv  |  116 +-\\n .../csse_covid_19_daily_reports_us/07-24-2021.csv  |    2 +-\\n .../csse_covid_19_daily_reports_us/07-25-2020.csv  |  116 +-\\n .../csse_covid_19_daily_reports_us/07-25-2021.csv  |    2 +-\\n .../csse_covid_19_daily_reports_us/07-26-2020.csv  |  116 +-\\n .../csse_covid_19_daily_reports_us/07-26-2021.csv  |    2 +-\\n .../csse_covid_19_daily_reports_us/07-27-2020.csv  |  116 +-\\n .../csse_covid_19_daily_reports_us/07-27-2021.csv  |    2 +-\\n .../csse_covid_19_daily_reports_us/07-27-2022.csv  |   59 +\\n .../csse_covid_19_daily_reports_us/07-28-2020.csv  |  116 +-\\n .../csse_covid_19_daily_reports_us/07-28-2021.csv  |    2 +-\\n .../csse_covid_19_daily_reports_us/07-29-2020.csv  |  116 +-\\n .../csse_covid_19_daily_reports_us/07-29-2021.csv  |    2 +-\\n .../csse_covid_19_daily_reports_us/07-30-2020.csv  |  116 +-\\n .../csse_covid_19_daily_reports_us/07-30-2021.csv  |    2 +-\\n .../csse_covid_19_daily_reports_us/07-31-2020.csv  |  116 +-\\n .../csse_covid_19_daily_reports_us/07-31-2021.csv  |    2 +-\\n .../csse_covid_19_daily_reports_us/08-01-2020.csv  |  116 +-\\n .../csse_covid_19_daily_reports_us/08-01-2021.csv  |    2 +-\\n .../csse_covid_19_daily_reports_us/08-02-2020.csv  |  116 +-\\n .../csse_covid_19_daily_reports_us/08-02-2021.csv  |    2 +-\\n .../csse_covid_19_daily_reports_us/08-03-2020.csv  |  116 +-\\n .../csse_covid_19_daily_reports_us/08-03-2021.csv  |    2 +-\\n .../csse_covid_19_daily_reports_us/08-04-2020.csv  |  116 +-\\n .../csse_covid_19_daily_reports_us/08-04-2021.csv  |    2 +-\\n .../csse_covid_19_daily_reports_us/08-05-2020.csv  |  116 +-\\n .../csse_covid_19_daily_reports_us/08-05-2021.csv  |    2 +-\\n .../csse_covid_19_daily_reports_us/08-06-2020.csv  |  116 +-\\n .../csse_covid_19_daily_reports_us/08-06-2021.csv  |    2 +-\\n .../csse_covid_19_daily_reports_us/08-07-2020.csv  |  116 +-\\n .../csse_covid_19_daily_reports_us/08-07-2021.csv  |    2 +-\\n .../csse_covid_19_daily_reports_us/08-08-2020.csv  |  116 +-\\n .../csse_covid_19_daily_reports_us/08-08-2021.csv  |    2 +-\\n .../csse_covid_19_daily_reports_us/08-09-2020.csv  |  116 +-\\n .../csse_covid_19_daily_reports_us/08-09-2021.csv  |    2 +-\\n .../csse_covid_19_daily_reports_us/08-10-2020.csv  |  116 +-\\n .../csse_covid_19_daily_reports_us/08-10-2021.csv  |    2 +-\\n .../csse_covid_19_daily_reports_us/08-11-2021.csv  |    2 +-\\n .../csse_covid_19_daily_reports_us/08-12-2021.csv  |    2 +-\\n .../csse_covid_19_daily_reports_us/08-13-2021.csv  |    2 +-\\n .../csse_covid_19_daily_reports_us/08-14-2021.csv  |    2 +-\\n .../csse_covid_19_daily_reports_us/08-15-2021.csv  |    2 +-\\n .../csse_covid_19_daily_reports_us/08-16-2021.csv  |    2 +-\\n .../csse_covid_19_daily_reports_us/08-17-2021.csv  |    2 +-\\n .../csse_covid_19_daily_reports_us/08-18-2021.csv  |    2 +-\\n .../csse_covid_19_daily_reports_us/08-19-2021.csv  |    2 +-\\n .../csse_covid_19_daily_reports_us/08-20-2021.csv  |    2 +-\\n .../csse_covid_19_daily_reports_us/08-21-2021.csv  |    2 +-\\n .../csse_covid_19_daily_reports_us/08-22-2021.csv  |    2 +-\\n .../csse_covid_19_daily_reports_us/08-23-2021.csv  |    2 +-\\n .../csse_covid_19_daily_reports_us/08-24-2021.csv  |    2 +-\\n .../csse_covid_19_daily_reports_us/08-25-2021.csv  |    2 +-\\n .../csse_covid_19_daily_reports_us/08-26-2021.csv  |    2 +-\\n .../csse_covid_19_daily_reports_us/08-27-2021.csv  |    2 +-\\n .../csse_covid_19_daily_reports_us/08-28-2021.csv  |    2 +-\\n .../csse_covid_19_daily_reports_us/08-29-2021.csv  |    2 +-\\n .../csse_covid_19_daily_reports_us/08-30-2021.csv  |    2 +-\\n .../csse_covid_19_daily_reports_us/08-31-2021.csv  |    2 +-\\n .../csse_covid_19_daily_reports_us/09-01-2021.csv  |    2 +-\\n .../csse_covid_19_daily_reports_us/09-02-2021.csv  |    2 +-\\n .../csse_covid_19_daily_reports_us/09-03-2021.csv  |    2 +-\\n .../csse_covid_19_daily_reports_us/09-04-2021.csv  |    2 +-\\n .../csse_covid_19_daily_reports_us/09-05-2021.csv  |    2 +-\\n .../csse_covid_19_daily_reports_us/09-06-2021.csv  |    2 +-\\n .../csse_covid_19_daily_reports_us/09-07-2021.csv  |    2 +-\\n .../csse_covid_19_daily_reports_us/09-08-2021.csv  |    2 +-\\n .../csse_covid_19_daily_reports_us/09-09-2021.csv  |    2 +-\\n .../csse_covid_19_daily_reports_us/09-10-2021.csv  |    2 +-\\n .../csse_covid_19_daily_reports_us/09-11-2021.csv  |    2 +-\\n .../csse_covid_19_daily_reports_us/09-12-2021.csv  |    2 +-\\n .../csse_covid_19_daily_reports_us/09-13-2021.csv  |    2 +-\\n .../csse_covid_19_daily_reports_us/09-14-2021.csv  |    2 +-\\n .../csse_covid_19_daily_reports_us/09-15-2021.csv  |    2 +-\\n .../csse_covid_19_daily_reports_us/09-16-2021.csv  |    2 +-\\n .../csse_covid_19_daily_reports_us/09-17-2021.csv  |    2 +-\\n .../csse_covid_19_daily_reports_us/09-18-2021.csv  |    2 +-\\n .../csse_covid_19_daily_reports_us/09-19-2021.csv  |    2 +-\\n .../csse_covid_19_daily_reports_us/09-20-2021.csv  |    2 +-\\n .../csse_covid_19_daily_reports_us/09-21-2021.csv  |    2 +-\\n .../csse_covid_19_daily_reports_us/09-22-2021.csv  |    2 +-\\n .../csse_covid_19_daily_reports_us/09-23-2021.csv  |    2 +-\\n .../csse_covid_19_daily_reports_us/09-24-2021.csv  |    2 +-\\n .../csse_covid_19_daily_reports_us/09-25-2021.csv  |    2 +-\\n .../csse_covid_19_daily_reports_us/09-26-2021.csv  |    2 +-\\n .../csse_covid_19_daily_reports_us/09-27-2021.csv  |    2 +-\\n .../csse_covid_19_daily_reports_us/09-28-2021.csv  |    2 +-\\n .../csse_covid_19_daily_reports_us/09-29-2021.csv  |    2 +-\\n .../csse_covid_19_daily_reports_us/09-30-2021.csv  |    2 +-\\n .../csse_covid_19_daily_reports_us/10-01-2021.csv  |    2 +-\\n .../csse_covid_19_daily_reports_us/10-02-2021.csv  |    2 +-\\n .../csse_covid_19_daily_reports_us/10-03-2021.csv  |    2 +-\\n .../csse_covid_19_daily_reports_us/10-04-2021.csv  |    2 +-\\n .../csse_covid_19_daily_reports_us/10-05-2021.csv  |    2 +-\\n .../csse_covid_19_daily_reports_us/10-06-2021.csv  |    2 +-\\n .../csse_covid_19_daily_reports_us/10-07-2021.csv  |    2 +-\\n .../csse_covid_19_daily_reports_us/10-08-2021.csv  |    2 +-\\n .../csse_covid_19_daily_reports_us/10-09-2021.csv  |    2 +-\\n .../csse_covid_19_daily_reports_us/10-10-2021.csv  |    2 +-\\n .../csse_covid_19_daily_reports_us/10-11-2021.csv  |    2 +-\\n .../csse_covid_19_daily_reports_us/10-12-2021.csv  |    2 +-\\n .../csse_covid_19_daily_reports_us/10-13-2021.csv  |    2 +-\\n .../csse_covid_19_daily_reports_us/10-14-2021.csv  |    2 +-\\n .../csse_covid_19_daily_reports_us/10-15-2021.csv  |    2 +-\\n .../csse_covid_19_daily_reports_us/10-16-2021.csv  |    2 +-\\n .../csse_covid_19_daily_reports_us/10-17-2021.csv  |    2 +-\\n .../csse_covid_19_daily_reports_us/10-18-2021.csv  |    2 +-\\n .../csse_covid_19_daily_reports_us/10-19-2021.csv  |    2 +-\\n .../csse_covid_19_daily_reports_us/10-20-2021.csv  |    2 +-\\n .../csse_covid_19_daily_reports_us/10-21-2021.csv  |    2 +-\\n .../csse_covid_19_daily_reports_us/10-22-2021.csv  |    2 +-\\n .../csse_covid_19_daily_reports_us/10-23-2021.csv  |    2 +-\\n .../csse_covid_19_daily_reports_us/10-24-2021.csv  |    2 +-\\n .../csse_covid_19_daily_reports_us/10-25-2021.csv  |    2 +-\\n .../csse_covid_19_daily_reports_us/10-26-2021.csv  |    2 +-\\n .../csse_covid_19_daily_reports_us/10-27-2021.csv  |    2 +-\\n .../csse_covid_19_daily_reports_us/10-28-2021.csv  |    2 +-\\n .../csse_covid_19_daily_reports_us/10-29-2021.csv  |    2 +-\\n .../csse_covid_19_daily_reports_us/10-30-2021.csv  |    2 +-\\n .../csse_covid_19_daily_reports_us/10-31-2021.csv  |    2 +-\\n .../csse_covid_19_daily_reports_us/11-01-2021.csv  |    2 +-\\n .../csse_covid_19_daily_reports_us/11-02-2021.csv  |    2 +-\\n .../csse_covid_19_daily_reports_us/11-03-2021.csv  |    2 +-\\n .../csse_covid_19_daily_reports_us/11-04-2021.csv  |    2 +-\\n .../csse_covid_19_daily_reports_us/11-05-2021.csv  |    2 +-\\n .../csse_covid_19_daily_reports_us/11-06-2021.csv  |    2 +-\\n .../csse_covid_19_daily_reports_us/11-07-2021.csv  |    2 +-\\n .../csse_covid_19_daily_reports_us/11-08-2021.csv  |    2 +-\\n .../csse_covid_19_daily_reports_us/11-09-2021.csv  |    2 +-\\n .../csse_covid_19_daily_reports_us/11-10-2021.csv  |    2 +-\\n .../csse_covid_19_daily_reports_us/11-11-2021.csv  |    2 +-\\n .../csse_covid_19_daily_reports_us/11-12-2021.csv  |    2 +-\\n .../csse_covid_19_daily_reports_us/11-13-2021.csv  |    2 +-\\n .../csse_covid_19_daily_reports_us/11-14-2021.csv  |    2 +-\\n .../csse_covid_19_daily_reports_us/11-15-2021.csv  |    2 +-\\n .../csse_covid_19_daily_reports_us/11-16-2021.csv  |    2 +-\\n .../csse_covid_19_daily_reports_us/11-17-2021.csv  |    2 +-\\n .../csse_covid_19_daily_reports_us/11-18-2021.csv  |    2 +-\\n .../csse_covid_19_daily_reports_us/11-19-2021.csv  |    2 +-\\n .../csse_covid_19_daily_reports_us/11-20-2021.csv  |    2 +-\\n .../csse_covid_19_daily_reports_us/11-21-2021.csv  |    2 +-\\n .../csse_covid_19_daily_reports_us/11-22-2021.csv  |    2 +-\\n .../csse_covid_19_daily_reports_us/11-23-2021.csv  |    2 +-\\n .../csse_covid_19_daily_reports_us/11-24-2021.csv  |    2 +-\\n .../csse_covid_19_daily_reports_us/11-25-2021.csv  |    2 +-\\n .../csse_covid_19_daily_reports_us/11-26-2021.csv  |    2 +-\\n .../csse_covid_19_daily_reports_us/11-27-2021.csv  |    2 +-\\n .../csse_covid_19_daily_reports_us/11-28-2021.csv  |    2 +-\\n .../csse_covid_19_daily_reports_us/11-29-2021.csv  |    2 +-\\n .../csse_covid_19_daily_reports_us/11-30-2021.csv  |    2 +-\\n .../csse_covid_19_daily_reports_us/12-01-2021.csv  |    2 +-\\n .../csse_covid_19_daily_reports_us/12-02-2021.csv  |    2 +-\\n .../csse_covid_19_daily_reports_us/12-03-2021.csv  |    2 +-\\n .../csse_covid_19_daily_reports_us/12-04-2021.csv  |    2 +-\\n .../csse_covid_19_daily_reports_us/12-05-2021.csv  |    2 +-\\n .../csse_covid_19_daily_reports_us/12-06-2021.csv  |    2 +-\\n .../csse_covid_19_daily_reports_us/12-07-2021.csv  |    2 +-\\n .../csse_covid_19_daily_reports_us/12-08-2021.csv  |    2 +-\\n .../csse_covid_19_daily_reports_us/12-09-2021.csv  |    2 +-\\n .../csse_covid_19_daily_reports_us/12-10-2021.csv  |    2 +-\\n .../csse_covid_19_daily_reports_us/12-11-2021.csv  |    2 +-\\n .../csse_covid_19_daily_reports_us/12-12-2021.csv  |    2 +-\\n .../csse_covid_19_daily_reports_us/12-13-2021.csv  |    2 +-\\n .../csse_covid_19_daily_reports_us/12-14-2021.csv  |    2 +-\\n .../csse_covid_19_daily_reports_us/12-15-2021.csv  |    2 +-\\n .../csse_covid_19_daily_reports_us/12-16-2021.csv  |    2 +-\\n .../csse_covid_19_daily_reports_us/12-17-2021.csv  |    2 +-\\n .../csse_covid_19_daily_reports_us/12-18-2021.csv  |    2 +-\\n .../csse_covid_19_daily_reports_us/12-19-2021.csv  |    2 +-\\n .../csse_covid_19_daily_reports_us/12-20-2021.csv  |    2 +-\\n .../csse_covid_19_daily_reports_us/12-21-2021.csv  |    2 +-\\n .../csse_covid_19_daily_reports_us/12-22-2021.csv  |    2 +-\\n .../csse_covid_19_daily_reports_us/12-23-2021.csv  |    2 +-\\n .../csse_covid_19_daily_reports_us/12-24-2021.csv  |    2 +-\\n .../csse_covid_19_daily_reports_us/12-25-2021.csv  |    2 +-\\n .../csse_covid_19_daily_reports_us/12-26-2021.csv  |    2 +-\\n .../csse_covid_19_daily_reports_us/12-27-2021.csv  |    2 +-\\n .../csse_covid_19_daily_reports_us/12-28-2021.csv  |    2 +-\\n .../csse_covid_19_daily_reports_us/12-29-2021.csv  |    2 +-\\n .../csse_covid_19_daily_reports_us/12-30-2021.csv  |    2 +-\\n .../csse_covid_19_daily_reports_us/12-31-2021.csv  |    2 +-\\n .../time_series_covid19_confirmed_US.csv           | 6686 ++++++++++----------\\n .../time_series_covid19_confirmed_global.csv       |  572 +-\\n .../time_series_covid19_deaths_US.csv              | 6686 ++++++++++----------\\n .../time_series_covid19_deaths_global.csv          |  572 +-\\n .../time_series_covid19_recovered_global.csv       |  542 +-\\n 1259 files changed, 25152 insertions(+), 21079 deletions(-)\\n create mode 100644 csse_covid_19_data/csse_covid_19_daily_reports/07-27-2022.csv\\n create mode 100644 csse_covid_19_data/csse_covid_19_daily_reports_us/07-27-2022.csv\\n'\n"
     ]
    }
   ],
   "source": [
    "git_pull = subprocess.Popen([\"git\", \"pull\"],\n",
    "                                cwd=os.path.dirname('../data/raw/COVID-19/'),\n",
    "                                shell=True,\n",
    "                                stdout=subprocess.PIPE,\n",
    "                                stderr=subprocess.PIPE)\n",
    "(out, error) = git_pull.communicate()\n",
    "\n",
    "print(\"yeyah reached\")\n",
    "print(\"Error : \" + str(error))\n",
    "print(\"out : \" + str(out))"
   ]
  },
  {
   "cell_type": "markdown",
   "id": "e577f549",
   "metadata": {},
   "source": [
    "## Data Cleaning"
   ]
  },
  {
   "cell_type": "markdown",
   "id": "236ab244",
   "metadata": {},
   "source": [
    "The data pre-processing is done before visualizing the data. Just exxtracting the data of infected people respect to state-country over date and saving the data"
   ]
  },
  {
   "cell_type": "code",
   "execution_count": 3,
   "id": "8b667f76",
   "metadata": {},
   "outputs": [],
   "source": [
    "data_path='../data/raw/COVID-19/csse_covid_19_data/csse_covid_19_time_series/time_series_covid19_confirmed_global.csv'\n",
    "pd_raw=pd.read_csv(data_path)\n",
    "\n",
    "pd_data_base=pd_raw.rename(columns={'Country/Region':'country',\n",
    "                      'Province/State':'state'})\n",
    "pd_data_base['state']=pd_data_base['state'].fillna('no') \n",
    "pd_data_base=pd_data_base.drop(['Lat','Long'],axis=1)\n",
    "\n",
    "pd_relational_model=pd_data_base.set_index(['state','country']) \n",
    "test_pd=pd_data_base.set_index(['state','country']).T\n",
    "\n",
    "con_multi=test_pd.stack(level=[0,1]).reset_index() #conv multiindex to row\n",
    "\n",
    "\n",
    "data_prep=con_multi.rename(columns={'level_0':'date',0:'confirmed'})\n",
    "data_prep['date']=data_prep.date.astype('datetime64[ns]')\n",
    "data_prep.to_csv('../data/processed/COVID_relational_confirmed.csv',sep=';',index=False)"
   ]
  },
  {
   "cell_type": "markdown",
   "id": "ec7d829f",
   "metadata": {},
   "source": [
    "### The filtering of data and calculating the doubling rate"
   ]
  },
  {
   "cell_type": "markdown",
   "id": "8dd93176",
   "metadata": {},
   "source": [
    "In this step we are filtering the data usinf savgol filter , approximating the doupling rate through linear regression. At the end we hand over the above generated data and then perform the filtering, calculating doupling rate and in the saving the data"
   ]
  },
  {
   "cell_type": "code",
   "execution_count": 4,
   "id": "c87a9cf9",
   "metadata": {},
   "outputs": [
    {
     "name": "stdout",
     "output_type": "stream",
     "text": [
      "the test slope is: [2.]\n"
     ]
    }
   ],
   "source": [
    "def get_doubling_time_via_regression(in_array):\n",
    "    ''' Use a linear regression to approximate the doubling rate\n",
    "\n",
    "        Parameters:\n",
    "        ----------\n",
    "        in_array : pandas.series\n",
    "\n",
    "        Returns:\n",
    "        ----------\n",
    "        Doubling rate: double\n",
    "    '''\n",
    "\n",
    "    y = np.array(in_array)\n",
    "    X = np.arange(-1,2).reshape(-1, 1)\n",
    "\n",
    "    assert len(in_array)==3\n",
    "    reg.fit(X,y)\n",
    "    intercept=reg.intercept_\n",
    "    slope=reg.coef_\n",
    "\n",
    "    return intercept/slope\n",
    "\n",
    "\n",
    "def savgol_filter(df_input,column='confirmed',window=5):\n",
    "    ''' Savgol Filter which can be used in groupby apply function (data structure kept)\n",
    "\n",
    "        parameters:\n",
    "        ----------\n",
    "        df_input : pandas.series\n",
    "        column : str\n",
    "        window : int\n",
    "            used data points to calculate the filter result\n",
    "\n",
    "        Returns:\n",
    "        ----------\n",
    "        df_result: pd.DataFrame\n",
    "            the index of the df_input has to be preserved in result\n",
    "    '''\n",
    "\n",
    "    degree=1\n",
    "    df_result=df_input\n",
    "\n",
    "    filter_in=df_input[column].fillna(0) # attention with the neutral element here\n",
    "\n",
    "    result=signal.savgol_filter(np.array(filter_in),\n",
    "                           window, # window size used for filtering\n",
    "                           1)\n",
    "    df_result[str(column+'_filtered')]=result\n",
    "    return df_result\n",
    "\n",
    "def rolling_reg(df_input,col='confirmed'):\n",
    "    ''' Rolling Regression to approximate the doubling time'\n",
    "\n",
    "        Parameters:\n",
    "        ----------\n",
    "        df_input: pd.DataFrame\n",
    "        col: str\n",
    "            defines the used column\n",
    "        Returns:\n",
    "        ----------\n",
    "        result: pd.DataFrame\n",
    "    '''\n",
    "    days_back=3\n",
    "    result=df_input[col].rolling(\n",
    "                window=days_back,\n",
    "                min_periods=days_back).apply(get_doubling_time_via_regression,raw=False)\n",
    "\n",
    "\n",
    "\n",
    "    return result\n",
    "\n",
    "\n",
    "\n",
    "\n",
    "def calc_filtered_data(df_input,filter_on='confirmed'):\n",
    "    '''  Calculate savgol filter and return merged data frame\n",
    "\n",
    "        Parameters:\n",
    "        ----------\n",
    "        df_input: pd.DataFrame\n",
    "        filter_on: str\n",
    "            defines the used column\n",
    "        Returns:\n",
    "        ----------\n",
    "        df_output: pd.DataFrame\n",
    "            the result will be joined as a new column on the input data frame\n",
    "    '''\n",
    "\n",
    "    must_contain=set(['state','country',filter_on])\n",
    "    assert must_contain.issubset(set(df_input.columns)), ' Erro in calc_filtered_data not all columns in data frame'\n",
    "\n",
    "    df_output=df_input.copy() # we need a copy here otherwise the filter_on column will be overwritten\n",
    "\n",
    "    pd_filtered_result=df_output[['state','country',filter_on]].groupby(['state','country']).apply(savgol_filter)#.reset_index()\n",
    "\n",
    "\n",
    "    df_output=pd.merge(df_output,pd_filtered_result[[str(filter_on+'_filtered')]],left_index=True,right_index=True,how='left')\n",
    "\n",
    "    return df_output.copy()\n",
    "\n",
    "\n",
    "\n",
    "\n",
    "\n",
    "def calc_doubling_rate(df_input,filter_on='confirmed'):\n",
    "    ''' Calculate approximated doubling rate and return merged data frame\n",
    "\n",
    "        Parameters:\n",
    "        ----------\n",
    "        df_input: pd.DataFrame\n",
    "        filter_on: str\n",
    "            defines the used column\n",
    "        Returns:\n",
    "        ----------\n",
    "        df_output: pd.DataFrame\n",
    "            the result will be joined as a new column on the input data frame\n",
    "    '''\n",
    "\n",
    "    must_contain=set(['state','country',filter_on])\n",
    "    assert must_contain.issubset(set(df_input.columns)), ' Erro in calc_filtered_data not all columns in data frame'\n",
    "\n",
    "\n",
    "    pd_DR_result= df_input.groupby(['state','country']).apply(rolling_reg,filter_on).reset_index()\n",
    "\n",
    "    pd_DR_result=pd_DR_result.rename(columns={filter_on:filter_on+'_DR',\n",
    "                             'level_2':'index'})\n",
    "\n",
    "    #we do the merge on the index of our big table and on the index column after groupby\n",
    "    df_output=pd.merge(df_input,pd_DR_result[['index',str(filter_on+'_DR')]],left_index=True,right_on=['index'],how='left')\n",
    "    df_output=df_output.drop(columns=['index'])\n",
    "\n",
    "\n",
    "    return df_output\n",
    "\n",
    "\n",
    "if __name__ == '__main__':\n",
    "    test_data_reg=np.array([2,4,6])\n",
    "    result=get_doubling_time_via_regression(test_data_reg)\n",
    "    print('the test slope is: '+str(result))\n",
    "\n",
    "    pd_JH_data=pd.read_csv('../data/processed/COVID_relational_confirmed.csv',sep=';',parse_dates=[0])\n",
    "    pd_JH_data=pd_JH_data.sort_values('date',ascending=True).copy()\n",
    "\n",
    "\n",
    "    pd_result_larg=calc_filtered_data(pd_JH_data)\n",
    "    pd_result_larg=calc_doubling_rate(pd_result_larg)\n",
    "    pd_result_larg=calc_doubling_rate(pd_result_larg,'confirmed_filtered')\n",
    "\n",
    "\n",
    "    mask=pd_result_larg['confirmed']>100\n",
    "    pd_result_larg['confirmed_filtered_DR']=pd_result_larg['confirmed_filtered_DR'].where(mask, other=np.NaN)\n",
    "    pd_result_larg.to_csv('../data/processed/COVID_final_set.csv',sep=';',index=False)"
   ]
  },
  {
   "cell_type": "markdown",
   "id": "aa32e986",
   "metadata": {},
   "source": [
    "## Dashboard visualization"
   ]
  },
  {
   "cell_type": "markdown",
   "id": "40874aea",
   "metadata": {},
   "source": [
    " Visulaizing the Dynamic DashBoard using the URL printed after running this cell after hand overing the filtered and doupling rate calculated data for all countries."
   ]
  },
  {
   "cell_type": "code",
   "execution_count": 12,
   "id": "a03e09ec",
   "metadata": {},
   "outputs": [
    {
     "name": "stdout",
     "output_type": "stream",
     "text": [
      "Dash is running on http://127.0.0.1:8050/\n",
      "\n",
      "Dash is running on http://127.0.0.1:8050/\n",
      "\n",
      "Dash is running on http://127.0.0.1:8050/\n",
      "\n",
      "Dash is running on http://127.0.0.1:8050/\n",
      "\n",
      "Dash is running on http://127.0.0.1:8050/\n",
      "\n",
      "Dash is running on http://127.0.0.1:8050/\n",
      "\n",
      "Dash is running on http://127.0.0.1:8050/\n",
      "\n",
      "Dash is running on http://127.0.0.1:8050/\n",
      "\n",
      " * Serving Flask app '__main__' (lazy loading)\n",
      " * Environment: production\n",
      "\u001b[31m   WARNING: This is a development server. Do not use it in a production deployment.\u001b[0m\n",
      "\u001b[2m   Use a production WSGI server instead.\u001b[0m\n",
      " * Debug mode: on\n"
     ]
    }
   ],
   "source": [
    "\n",
    "df_input_large=pd.read_csv('../data/processed/COVID_final_set.csv',sep=';')\n",
    "\n",
    "\n",
    "fig = go.Figure()\n",
    "\n",
    "app = dash.Dash()\n",
    "app.layout = html.Div([\n",
    "\n",
    "    dcc.Markdown('''\n",
    "    #   COVID-19 data Analysis\n",
    "\n",
    "  .\n",
    "\n",
    "    '''),\n",
    "\n",
    "    dcc.Markdown('''\n",
    "    ## Select a Country for visualization\n",
    "    '''),\n",
    "\n",
    "\n",
    "    dcc.Dropdown(\n",
    "        id='country_drop_down',\n",
    "        options=[ {'label': each,'value':each} for each in df_input_large['country'].unique()],\n",
    "        value=['US', 'Germany','India'], # which are pre-selected\n",
    "        multi=True\n",
    "    ),\n",
    "\n",
    "    dcc.Markdown('''\n",
    "        ## Select Timeline of confirmed COVID-19 cases or the approximated doubling time\n",
    "        '''),\n",
    "\n",
    "\n",
    "    dcc.Dropdown(\n",
    "    id='doubling_time',\n",
    "    options=[\n",
    "        {'label': 'Timeline Confirmed ', 'value': 'confirmed'},\n",
    "        {'label': 'Timeline Confirmed Filtered', 'value': 'confirmed_filtered'},\n",
    "        {'label': 'Timeline Doubling Rate', 'value': 'confirmed_DR'},\n",
    "        {'label': 'Timeline Doubling Rate Filtered', 'value': 'confirmed_filtered_DR'},\n",
    "    ],\n",
    "    value='confirmed',\n",
    "    multi=False\n",
    "    ),\n",
    "\n",
    "    dcc.Graph(figure=fig, id='main_window_slope')\n",
    "])\n",
    "\n",
    "\n",
    "\n",
    "@app.callback(\n",
    "    Output('main_window_slope', 'figure'),\n",
    "    [Input('country_drop_down', 'value'),\n",
    "    Input('doubling_time', 'value')])\n",
    "def update_figure(country_list,show_doubling):\n",
    "\n",
    "\n",
    "    if '_DR' in show_doubling:\n",
    "        my_yaxis={'type':\"log\",\n",
    "               'title':'Approximated doubling rate over 3 days'\n",
    "              }\n",
    "    else:\n",
    "        my_yaxis={'type':\"log\",\n",
    "                  'title':'Confirmed infected people (source johns hopkins csse)'\n",
    "              }\n",
    "\n",
    "\n",
    "    traces = []\n",
    "    for each in country_list:\n",
    "\n",
    "        df_plot=df_input_large[df_input_large['country']==each]\n",
    "\n",
    "        if '_DR' in show_doubling:\n",
    "            df_plot=df_plot[['state','country','confirmed','confirmed_filtered','confirmed_DR','confirmed_filtered_DR','date']].groupby(['country','date']).agg(np.mean).reset_index()\n",
    "        else:\n",
    "            df_plot=df_plot[['state','country','confirmed','confirmed_filtered','confirmed_DR','confirmed_filtered_DR','date']].groupby(['country','date']).agg(np.sum).reset_index()\n",
    "\n",
    "\n",
    "\n",
    "        traces.append(dict(x=df_plot.date,\n",
    "                                y=df_plot[show_doubling],\n",
    "                                mode='markers+lines',\n",
    "                                opacity=0.9,\n",
    "                                name=each\n",
    "                        )\n",
    "                )\n",
    "\n",
    "    return {\n",
    "            'data': traces,\n",
    "            'layout': dict (\n",
    "                width=1280,\n",
    "                height=720,\n",
    "\n",
    "                xaxis={'title':'Timeline',\n",
    "                        'tickangle':-45,\n",
    "                        'nticks':20,\n",
    "                        'tickfont':dict(size=14,color=\"#7f7f7f\"),\n",
    "                      },\n",
    "\n",
    "                yaxis=my_yaxis\n",
    "        )\n",
    "    }\n",
    "\n",
    "if __name__ == '__main__':\n",
    "\n",
    "    app.run_server(debug=True, use_reloader=False)"
   ]
  },
  {
   "cell_type": "code",
   "execution_count": null,
   "id": "d4f0adda",
   "metadata": {},
   "outputs": [],
   "source": []
  }
 ],
 "metadata": {
  "kernelspec": {
   "display_name": "Python 3 (ipykernel)",
   "language": "python",
   "name": "python3"
  },
  "language_info": {
   "codemirror_mode": {
    "name": "ipython",
    "version": 3
   },
   "file_extension": ".py",
   "mimetype": "text/x-python",
   "name": "python",
   "nbconvert_exporter": "python",
   "pygments_lexer": "ipython3",
   "version": "3.10.4"
  }
 },
 "nbformat": 4,
 "nbformat_minor": 5
}
